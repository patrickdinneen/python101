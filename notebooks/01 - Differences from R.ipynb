{
 "cells": [
  {
   "cell_type": "markdown",
   "id": "undefined-enlargement",
   "metadata": {},
   "source": [
    "# R is a strange place to start\n",
    "\n",
    "R is an unusual language in many ways, so parts of the below will be a mixture of\n",
    "\n",
    "> R is unusual in the following ways\n",
    "\n",
    "and \n",
    "\n",
    "> Python specifically differs R in the following ways\n",
    "\n",
    "and also\n",
    "\n",
    "> Python is unusual in the following ways"
   ]
  },
  {
   "cell_type": "code",
   "execution_count": 2,
   "id": "progressive-right",
   "metadata": {},
   "outputs": [
    {
     "name": "stdout",
     "output_type": "stream",
     "text": [
      "The rpy2.ipython extension is already loaded. To reload it, use:\n",
      "  %reload_ext rpy2.ipython\n"
     ]
    }
   ],
   "source": [
    "%load_ext rpy2.ipython"
   ]
  },
  {
   "cell_type": "markdown",
   "id": "angry-canal",
   "metadata": {},
   "source": [
    "## R is vectorized by default\n",
    "\n",
    "In R, the basic primitives of datatypes are vectors, lists, matrices and data frames. \n",
    "\n",
    "In most cases you can apply a function to all elements in a vector by calling the function once and providing the array as input.\n",
    "\n",
    "Consider the following examples:"
   ]
  },
  {
   "cell_type": "code",
   "execution_count": 11,
   "id": "daily-destiny",
   "metadata": {},
   "outputs": [
    {
     "name": "stdout",
     "output_type": "stream",
     "text": [
      " [1]  1  2  3  4  5  6  7  8  9 10\n",
      " [1] FALSE FALSE FALSE FALSE FALSE  TRUE  TRUE  TRUE  TRUE  TRUE\n",
      "[1] \"HELLO\"   \"WORLD\"   \"GOODBYE\" \"PIZZA\"  \n"
     ]
    }
   ],
   "source": [
    "%%R\n",
    "\n",
    "some_numbers <- 1:10\n",
    "print(some_numbers)\n",
    "print(some_numbers > 5)\n",
    "\n",
    "words <- c('hello', 'world', 'goodbye', 'pizza')\n",
    "print(toupper(words))"
   ]
  },
  {
   "cell_type": "markdown",
   "id": "selected-formula",
   "metadata": {},
   "source": [
    "This is exceptionally useful for data munging and performing analyses etc.\n",
    "\n",
    "In this regard R is an outlier as is this is unusual for most programming languages.\n",
    "\n",
    "In almost all languages you would achieve the same result using iteration of some kind.\n",
    "\n",
    "In Python we could handle these two examples like so:"
   ]
  },
  {
   "cell_type": "code",
   "execution_count": 16,
   "id": "pharmaceutical-journalism",
   "metadata": {},
   "outputs": [
    {
     "name": "stdout",
     "output_type": "stream",
     "text": [
      "False\n",
      "False\n",
      "False\n",
      "False\n",
      "False\n",
      "True\n",
      "True\n",
      "True\n",
      "True\n",
      "True\n",
      "\n",
      "Uppercasing words:\n",
      "\n",
      "HELLO\n",
      "WORLD\n",
      "GOODBYE\n",
      "PIZZA\n"
     ]
    }
   ],
   "source": [
    "some_numbers = [1, 2, 3, 4, 5, 6, 7, 8, 9, 10]\n",
    "\n",
    "for number in some_numbers:\n",
    "    print(number > 5)\n",
    "    \n",
    "print('\\nUppercasing words:\\n')\n",
    "\n",
    "words = ['hello', 'world', 'goodbye', 'pizza']\n",
    "\n",
    "for word in words:\n",
    "    print(word.upper())"
   ]
  },
  {
   "cell_type": "markdown",
   "id": "informed-improvement",
   "metadata": {},
   "source": [
    "It is worth noting that there are other more compact ways of achieving the above in Python and there are libraries to provide functionality that is close to data frames and matrices (and their operations) found in R (specifically NumPy and Pandas)\n",
    "\n",
    "### Some consequences\n",
    "\n",
    "In R you typically end up working with a small set of data types (vectors, lists, matrices, dataframes) in diverse ways.\n",
    "\n",
    "In Python you typically end up working with a diverse set of data types over and above the built-in types."
   ]
  },
  {
   "cell_type": "markdown",
   "id": "silver-blame",
   "metadata": {},
   "source": [
    "## R is more functional\n",
    "\n",
    "R takes more influence from Functional Programming than Imperative or Object-oriented programming.\n",
    "\n",
    "Python, by contrast, takes a bit from everywhere.\n",
    "\n",
    "In the previous examples you may have noticed to convert strings to upper case you call a function:\n",
    "\n",
    "```R\n",
    "toupper(mystrings)\n",
    "```\n",
    "\n",
    "Whereas in Python, this particular function is invoked on a receiver:\n",
    "\n",
    "```python\n",
    "some_string = 'Hello'\n",
    "some_string.upper()\n",
    "```\n",
    "\n",
    "Note that this doesn't apply universally, as illustrated in the next example."
   ]
  },
  {
   "cell_type": "code",
   "execution_count": 24,
   "id": "official-merit",
   "metadata": {},
   "outputs": [
    {
     "data": {
      "text/plain": [
       "'/Users/patrickdinneen/Development/ext/python101/notebooks'"
      ]
     },
     "execution_count": 24,
     "metadata": {},
     "output_type": "execute_result"
    }
   ],
   "source": [
    "from os import getcwd\n",
    "getcwd()"
   ]
  },
  {
   "cell_type": "markdown",
   "id": "outer-favor",
   "metadata": {},
   "source": [
    "### Some consequences\n",
    "\n",
    "In R you end up using many functions where the inputs are vectors, lists, matrices and dataframes and the outputs. The place where these functions is implemented is only really relevant in terms of installing and loading libraries.\n",
    "\n",
    "In you'll end up general purpose functions from modules (like `getcwd()`) *and* functions from different types/classes (such as `str.upper()`)\n",
    "\n",
    "Let us take a look a list of functions available on strings (ignore the double underscore functions for now):"
   ]
  },
  {
   "cell_type": "code",
   "execution_count": 25,
   "id": "thrown-supply",
   "metadata": {},
   "outputs": [
    {
     "data": {
      "text/plain": [
       "['__add__',\n",
       " '__class__',\n",
       " '__contains__',\n",
       " '__delattr__',\n",
       " '__dir__',\n",
       " '__doc__',\n",
       " '__eq__',\n",
       " '__format__',\n",
       " '__ge__',\n",
       " '__getattribute__',\n",
       " '__getitem__',\n",
       " '__getnewargs__',\n",
       " '__gt__',\n",
       " '__hash__',\n",
       " '__init__',\n",
       " '__init_subclass__',\n",
       " '__iter__',\n",
       " '__le__',\n",
       " '__len__',\n",
       " '__lt__',\n",
       " '__mod__',\n",
       " '__mul__',\n",
       " '__ne__',\n",
       " '__new__',\n",
       " '__reduce__',\n",
       " '__reduce_ex__',\n",
       " '__repr__',\n",
       " '__rmod__',\n",
       " '__rmul__',\n",
       " '__setattr__',\n",
       " '__sizeof__',\n",
       " '__str__',\n",
       " '__subclasshook__',\n",
       " 'capitalize',\n",
       " 'casefold',\n",
       " 'center',\n",
       " 'count',\n",
       " 'encode',\n",
       " 'endswith',\n",
       " 'expandtabs',\n",
       " 'find',\n",
       " 'format',\n",
       " 'format_map',\n",
       " 'index',\n",
       " 'isalnum',\n",
       " 'isalpha',\n",
       " 'isascii',\n",
       " 'isdecimal',\n",
       " 'isdigit',\n",
       " 'isidentifier',\n",
       " 'islower',\n",
       " 'isnumeric',\n",
       " 'isprintable',\n",
       " 'isspace',\n",
       " 'istitle',\n",
       " 'isupper',\n",
       " 'join',\n",
       " 'ljust',\n",
       " 'lower',\n",
       " 'lstrip',\n",
       " 'maketrans',\n",
       " 'partition',\n",
       " 'replace',\n",
       " 'rfind',\n",
       " 'rindex',\n",
       " 'rjust',\n",
       " 'rpartition',\n",
       " 'rsplit',\n",
       " 'rstrip',\n",
       " 'split',\n",
       " 'splitlines',\n",
       " 'startswith',\n",
       " 'strip',\n",
       " 'swapcase',\n",
       " 'title',\n",
       " 'translate',\n",
       " 'upper',\n",
       " 'zfill']"
      ]
     },
     "execution_count": 25,
     "metadata": {},
     "output_type": "execute_result"
    }
   ],
   "source": [
    "dir('some string')"
   ]
  },
  {
   "cell_type": "markdown",
   "id": "inclusive-anthony",
   "metadata": {},
   "source": [
    "You can view the details on what each function (actually called a method in this context) does in the [fantastic help docs](https://docs.python.org/3.7/library/stdtypes.html#str)\n",
    "\n",
    "Alternatively, can read help directly in an interactive session, like so:"
   ]
  },
  {
   "cell_type": "code",
   "execution_count": 26,
   "id": "overhead-cause",
   "metadata": {},
   "outputs": [
    {
     "name": "stdout",
     "output_type": "stream",
     "text": [
      "Help on method_descriptor:\n",
      "\n",
      "startswith(...)\n",
      "    S.startswith(prefix[, start[, end]]) -> bool\n",
      "    \n",
      "    Return True if S starts with the specified prefix, False otherwise.\n",
      "    With optional start, test S beginning at that position.\n",
      "    With optional end, stop comparing S at that position.\n",
      "    prefix can also be a tuple of strings to try.\n",
      "\n"
     ]
    }
   ],
   "source": [
    "help(str.startswith)"
   ]
  },
  {
   "cell_type": "markdown",
   "id": "cubic-international",
   "metadata": {},
   "source": [
    "## Data Structures: R vs Python\n",
    "\n",
    "Data Structures are ways of grouping values together.\n",
    "\n",
    "In Python (and indeed most languages) you typically work with atomic values (such as numbers, strings, dates, etc) and Data Structures to contain multiple atomic values (arrays, dictionaroies). \n",
    "\n",
    "In R you could say that the Data Structures are like the atomic values of the language. R makes it hard for you to have a single value of anything, it is much quicker to supply you with a vector of length 1.\n",
    "\n",
    "### Python Lists != R Lists\n",
    "\n",
    "One of the most frequently used base Data Structures in Python is the humble List. In our number and word handling example we created two lists.\n",
    "\n",
    "A List contains a sequence of items, in a specific order and items can be read based on their position in the list. In Python you can have a List with mixed types of values:"
   ]
  },
  {
   "cell_type": "code",
   "execution_count": 29,
   "id": "alert-discount",
   "metadata": {},
   "outputs": [
    {
     "data": {
      "text/plain": [
       "['Hello', 1984, datetime.datetime(2021, 1, 22, 11, 45, 44, 669303)]"
      ]
     },
     "execution_count": 29,
     "metadata": {},
     "output_type": "execute_result"
    }
   ],
   "source": [
    "from datetime import datetime\n",
    "my_crazy_list = ['Hello', 1984, datetime.utcnow()]\n",
    "my_crazy_list"
   ]
  },
  {
   "cell_type": "markdown",
   "id": "accessible-importance",
   "metadata": {},
   "source": [
    "However, this is seldom a good idea and you don't find it much.\n",
    "\n",
    "The List in R is actually, very confusingly, much closer to a Python Dictionary, which we will see next. This naming weirdness is an idiosyncrasy of R as the List is a very distinct concept in Computer Science.\n",
    "\n",
    "Python Lists are much closer in spirit to R's vectors, with a few notable differences:\n",
    "\n",
    "* R does not support vectors with mixed types of data\n",
    "* Python is 0-indexed and R is 1-indexed\n",
    "* Python lists only support integer and slice-based indexing, where R supports vector indexing"
   ]
  },
  {
   "cell_type": "code",
   "execution_count": 30,
   "id": "recorded-plaza",
   "metadata": {},
   "outputs": [
    {
     "name": "stdout",
     "output_type": "stream",
     "text": [
      "[1] \"cow\" \"cat\" \"dog\"\n"
     ]
    }
   ],
   "source": [
    "%%R\n",
    "\n",
    "words <- c('verify', 'letters', 'compiler', 'cow', 'cat', 'dog')\n",
    "short_word_indexes <- nchar(words) < 4\n",
    "print(words[short_word_indexes])"
   ]
  },
  {
   "cell_type": "code",
   "execution_count": 31,
   "id": "advised-cruise",
   "metadata": {},
   "outputs": [
    {
     "name": "stdout",
     "output_type": "stream",
     "text": [
      "[1] \"verify\"   \"compiler\" \"dog\"     \n"
     ]
    }
   ],
   "source": [
    "%%R\n",
    "\n",
    "words <- c('verify', 'letters', 'compiler', 'cow', 'cat', 'dog')\n",
    "print(words[c(1, 3, 6)])"
   ]
  },
  {
   "cell_type": "code",
   "execution_count": 33,
   "id": "cutting-summary",
   "metadata": {},
   "outputs": [
    {
     "name": "stdout",
     "output_type": "stream",
     "text": [
      "[1] \"verify\"\n"
     ]
    }
   ],
   "source": [
    "%%R\n",
    "\n",
    "words <- c('verify', 'letters', 'compiler', 'cow', 'cat', 'dog')\n",
    "print(words[1])"
   ]
  },
  {
   "cell_type": "markdown",
   "id": "northern-canal",
   "metadata": {},
   "source": [
    "**In Python:**"
   ]
  },
  {
   "cell_type": "code",
   "execution_count": 35,
   "id": "metallic-renewal",
   "metadata": {},
   "outputs": [
    {
     "name": "stdout",
     "output_type": "stream",
     "text": [
      "['cow', 'cat', 'dog']\n"
     ]
    }
   ],
   "source": [
    "words = ['verify', 'letters', 'compiler', 'cow', 'cat', 'dog']\n",
    "\n",
    "short_words = []\n",
    "\n",
    "for w in words:\n",
    "    if len(w) < 4:\n",
    "        short_words.append(w)\n",
    "        \n",
    "print(short_words)"
   ]
  },
  {
   "cell_type": "code",
   "execution_count": null,
   "id": "caring-stable",
   "metadata": {},
   "outputs": [],
   "source": []
  }
 ],
 "metadata": {
  "kernelspec": {
   "display_name": "Python 3",
   "language": "python",
   "name": "python3"
  },
  "language_info": {
   "codemirror_mode": {
    "name": "ipython",
    "version": 3
   },
   "file_extension": ".py",
   "mimetype": "text/x-python",
   "name": "python",
   "nbconvert_exporter": "python",
   "pygments_lexer": "ipython3",
   "version": "3.7.9"
  }
 },
 "nbformat": 4,
 "nbformat_minor": 5
}
