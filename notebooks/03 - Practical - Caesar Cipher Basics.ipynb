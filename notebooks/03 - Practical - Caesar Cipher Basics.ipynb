{
 "cells": [
  {
   "cell_type": "markdown",
   "id": "specified-inclusion",
   "metadata": {},
   "source": [
    "# Cryptography 101\n",
    "\n",
    "One of the simplest cryptographic methods is known as the Caesar Cipher. The Wikipedia page explains it as:\n",
    "\n",
    "> It is a type of substitution cipher in which each letter in the plaintext is replaced by a letter some fixed number of positions down the alphabet. For example, with a left shift of 3, D would be replaced by A, E would become B, and so on.\n",
    "\n",
    "They go to provide a simple example using a left rotation of 23 (or a right rotation of 3):\n",
    "\n",
    "The translated alphabet looks like so:\n",
    "\n",
    "> Plain:    ABCDEFGHIJKLMNOPQRSTUVWXYZ\n",
    "Cipher:   XYZABCDEFGHIJKLMNOPQRSTUVW\n",
    "\n",
    "A messaged and its encrypted equivalent would look like so:\n",
    "\n",
    "> Plaintext:  THE QUICK BROWN FOX JUMPS OVER THE LAZY DOG\n",
    "Ciphertext: QEB NRFZH YOLTK CLU GRJMP LSBO QEB IXWV ALD\n",
    "\n",
    "Decrypting an encrypted message is as simple as running the same procedure with an equal shift in the opposite direction."
   ]
  },
  {
   "cell_type": "markdown",
   "id": "portuguese-tablet",
   "metadata": {},
   "source": [
    "## The modulo operator in Python: %\n",
    "\n",
    "The modulo operator returns the remainder of the integer division of the left hand side by the right hand side:"
   ]
  },
  {
   "cell_type": "code",
   "execution_count": 1,
   "id": "recovered-multiple",
   "metadata": {},
   "outputs": [
    {
     "data": {
      "text/plain": [
       "1"
      ]
     },
     "execution_count": 1,
     "metadata": {},
     "output_type": "execute_result"
    }
   ],
   "source": [
    "10 % 3"
   ]
  },
  {
   "cell_type": "code",
   "execution_count": 2,
   "id": "growing-setting",
   "metadata": {},
   "outputs": [
    {
     "data": {
      "text/plain": [
       "9"
      ]
     },
     "execution_count": 2,
     "metadata": {},
     "output_type": "execute_result"
    }
   ],
   "source": [
    "29 % 10"
   ]
  },
  {
   "cell_type": "markdown",
   "id": "conservative-satisfaction",
   "metadata": {},
   "source": [
    "This operator will prove useful in implementing the above encryption algorithm."
   ]
  },
  {
   "cell_type": "markdown",
   "id": "proprietary-ferry",
   "metadata": {},
   "source": [
    "## Assignment\n",
    "\n",
    "In this repo there are the following that you will need to view:\n",
    "\n",
    "```\n",
    "cipher/caesar.py \n",
    "tests/test_caesar.py\n",
    "```\n",
    "\n",
    "The first file has stubbed out functions for implemented the Caesar Cipher, the second contains the first few test cases.\n",
    "\n",
    "Your task is to make the failing tests pass and add some more tests."
   ]
  },
  {
   "cell_type": "markdown",
   "id": "binary-greene",
   "metadata": {},
   "source": [
    "## Working in PyCharm\n",
    "\n",
    "Open PyCharm and click `File -> New Project` and select the repo location on your drive.\n",
    "\n",
    "It will ask you some questions about creating a new virtual environment, we'll deal with this interactively"
   ]
  },
  {
   "cell_type": "code",
   "execution_count": null,
   "id": "collectible-macedonia",
   "metadata": {},
   "outputs": [],
   "source": []
  }
 ],
 "metadata": {
  "kernelspec": {
   "display_name": "Python 3",
   "language": "python",
   "name": "python3"
  },
  "language_info": {
   "codemirror_mode": {
    "name": "ipython",
    "version": 3
   },
   "file_extension": ".py",
   "mimetype": "text/x-python",
   "name": "python",
   "nbconvert_exporter": "python",
   "pygments_lexer": "ipython3",
   "version": "3.7.9"
  }
 },
 "nbformat": 4,
 "nbformat_minor": 5
}
