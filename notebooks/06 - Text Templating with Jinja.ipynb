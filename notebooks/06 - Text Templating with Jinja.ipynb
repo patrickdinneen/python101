{
 "cells": [
  {
   "cell_type": "markdown",
   "id": "martial-injection",
   "metadata": {},
   "source": [
    "# Templating with Jinja\n",
    "\n",
    "Jinja is an external library (you need to `pip install jinja2` to have it available) that is used for creating templates that can be rendered using different input values."
   ]
  },
  {
   "cell_type": "code",
   "execution_count": 2,
   "id": "structural-architect",
   "metadata": {},
   "outputs": [],
   "source": [
    "from jinja2 import Template"
   ]
  },
  {
   "cell_type": "code",
   "execution_count": 51,
   "id": "weekly-redhead",
   "metadata": {},
   "outputs": [
    {
     "data": {
      "text/plain": [
       "'Hello Ada'"
      ]
     },
     "execution_count": 51,
     "metadata": {},
     "output_type": "execute_result"
    }
   ],
   "source": [
    "template = Template('Hello {{ name }}')\n",
    "\n",
    "template.render({'name':'Ada'})"
   ]
  },
  {
   "cell_type": "code",
   "execution_count": 52,
   "id": "rising-photograph",
   "metadata": {},
   "outputs": [
    {
     "data": {
      "text/plain": [
       "'Hello Alan'"
      ]
     },
     "execution_count": 52,
     "metadata": {},
     "output_type": "execute_result"
    }
   ],
   "source": [
    "template.render(name='Alan')"
   ]
  },
  {
   "cell_type": "markdown",
   "id": "identical-memory",
   "metadata": {},
   "source": [
    "## How this differs from str.format()\n",
    "\n",
    "Looking at the above we may think that we can just as well use str.format:"
   ]
  },
  {
   "cell_type": "code",
   "execution_count": 5,
   "id": "spatial-india",
   "metadata": {},
   "outputs": [
    {
     "data": {
      "text/plain": [
       "'Hello Ada'"
      ]
     },
     "execution_count": 5,
     "metadata": {},
     "output_type": "execute_result"
    }
   ],
   "source": [
    "str_template = 'Hello {name}'\n",
    "\n",
    "str_template.format(name='Ada')"
   ]
  },
  {
   "cell_type": "code",
   "execution_count": 6,
   "id": "nervous-wales",
   "metadata": {},
   "outputs": [
    {
     "data": {
      "text/plain": [
       "'Hello Alan'"
      ]
     },
     "execution_count": 6,
     "metadata": {},
     "output_type": "execute_result"
    }
   ],
   "source": [
    "str_template.format(name='Alan')"
   ]
  },
  {
   "cell_type": "markdown",
   "id": "according-prevention",
   "metadata": {},
   "source": [
    "Jinja provides a simple, powerful language for introducing conditionals, iteration, filters and much more into our templates."
   ]
  },
  {
   "cell_type": "code",
   "execution_count": 17,
   "id": "another-success",
   "metadata": {},
   "outputs": [],
   "source": [
    "from dataclasses import dataclass, field\n",
    "from typing import List\n",
    "\n",
    "@dataclass\n",
    "class ComputerScientist:\n",
    "    name: str\n",
    "    contributions: List[str] = field(default_factory=list)\n",
    "        \n",
    "ada = ComputerScientist(name='Ada Lovelace', \n",
    "                        contributions=['First published algorithm for computer'])\n",
    "\n",
    "alan = ComputerScientist(name='Alan Kay',\n",
    "                         contributions=['Designer of Smalltalk', 'Kiddicomp/Dynabook', 'Graphical User Interfaces'])"
   ]
  },
  {
   "cell_type": "markdown",
   "id": "connected-treat",
   "metadata": {},
   "source": [
    "## Variable Substitution\n",
    "\n",
    "The most commonly used feature of Jinja is almost certainly plain old variable substitution: you have a variable with some value, and you want that to be inserted to your output.\n",
    "\n",
    "For this you use double braces: `{{ }}` and put your variable expression within the double braces."
   ]
  },
  {
   "cell_type": "code",
   "execution_count": 55,
   "id": "dynamic-record",
   "metadata": {},
   "outputs": [
    {
     "name": "stdout",
     "output_type": "stream",
     "text": [
      "Computer Scientist: Alan Kay\n",
      "Contributions: Designer of Smalltalk; Kiddicomp/Dynabook; Graphical User Interfaces\n"
     ]
    }
   ],
   "source": [
    "fields_template = Template(\"Computer Scientist: {{ scientist.name }}\\nContributions: {{ scientist.contributions|join('; ') }}\")\n",
    "print(fields_template.render(scientist=alan))"
   ]
  },
  {
   "cell_type": "markdown",
   "id": "educational-yeast",
   "metadata": {},
   "source": [
    "## Statements - Conditionals and Iterating\n",
    "\n",
    "We can also include conditionals and looping constructs, these are expressed using `{% <statement> %}`"
   ]
  },
  {
   "cell_type": "code",
   "execution_count": 27,
   "id": "dominant-competition",
   "metadata": {},
   "outputs": [
    {
     "name": "stdout",
     "output_type": "stream",
     "text": [
      "Computer Scientist: Alan Kay\n",
      "Contributions:\n",
      "\n",
      "\tDesigner of Smalltalk\n",
      "\n",
      "\tKiddicomp/Dynabook\n",
      "\n",
      "\tGraphical User Interfaces\n",
      "\n"
     ]
    }
   ],
   "source": [
    "fields_template_v2 = Template(\"\"\"Computer Scientist: {{ scientist.name }}\n",
    "Contributions:\n",
    "{% for contribution in scientist.contributions %}\n",
    "\\t{{ contribution }}\n",
    "{% endfor %}\n",
    "\"\"\")\n",
    "print(fields_template_v2.render(scientist=alan))"
   ]
  },
  {
   "cell_type": "markdown",
   "id": "agricultural-charity",
   "metadata": {},
   "source": [
    "Note that this printing all of our whitespace too. The template string has a newline between \"Contributions:\" and the for-loop for contributions, so that newline is in our output. [You can control the surrounding whitespace](https://jinja.palletsprojects.com/en/2.11.x/templates/#whitespace-control) more finely using a number of different methods, but this is unlikely to be of interest in our work in Airflow."
   ]
  },
  {
   "cell_type": "code",
   "execution_count": 37,
   "id": "offshore-arbitration",
   "metadata": {},
   "outputs": [
    {
     "name": "stdout",
     "output_type": "stream",
     "text": [
      "Computer Scientist: Alan Kay\n",
      "\n",
      "Contributions:\n",
      "\n",
      "\tDesigner of Smalltalk\n",
      "\n",
      "\tKiddicomp/Dynabook\n",
      "\n",
      "\tand Graphical User Interfaces\n",
      "\n",
      "\n"
     ]
    }
   ],
   "source": [
    "fields_template_v3 = Template(\"\"\"Computer Scientist: {{ scientist.name }}\n",
    "{% if scientist.contributions %}\n",
    "Contributions:\n",
    "{% for contribution in scientist.contributions -%}\n",
    "{% if not loop.last %}\n",
    "\\t{{ contribution }}\n",
    "{% else %}\n",
    "\\tand {{ contribution }}\n",
    "{% endif %}\n",
    "{%- endfor %}\n",
    "{% else %}\n",
    "No contributions!\n",
    "{% endif %}\n",
    "\"\"\")\n",
    "\n",
    "\n",
    "print(fields_template_v3.render(scientist=alan))"
   ]
  },
  {
   "cell_type": "code",
   "execution_count": 38,
   "id": "utility-secretary",
   "metadata": {},
   "outputs": [
    {
     "name": "stdout",
     "output_type": "stream",
     "text": [
      "Computer Scientist: Patrick\n",
      "\n",
      "No contributions!\n",
      "\n"
     ]
    }
   ],
   "source": [
    "print(fields_template_v3.render(scientist=ComputerScientist(name='Patrick')))"
   ]
  },
  {
   "cell_type": "markdown",
   "id": "quality-iceland",
   "metadata": {},
   "source": [
    "## A practical example\n",
    "\n",
    "Let's say you want to generate some SQL that Airflow will run every day to UNION ALL `Project Created` events for the previous day and we're going to aggregate it to get unique exporting users (let's ignore our cross platform user id complexities here).\n",
    "\n",
    "We have three datasets that we need to query: `events, over_android, over_web_events`.\n",
    "\n",
    "But let's expand the problem space: we need to do this for say five different events and we're expecting to launch on a new platform soon (Blackberry?)\n",
    "\n",
    "We could just write the SQL for each event and then update the SQL when the new platform launches, or we could create a template."
   ]
  },
  {
   "cell_type": "code",
   "execution_count": 56,
   "id": "close-science",
   "metadata": {},
   "outputs": [],
   "source": [
    "event_template = Template(\"\"\"\n",
    "{% for dataset in datasets %}\n",
    "SELECT\n",
    "    timestamp,\n",
    "    user_id\n",
    "FROM `over-data.{{ dataset }}.{{ event }}\n",
    "WHERE _PARTITIONTIME = '{{ ds }}'\n",
    "\n",
    "{% if not loop.last %}\n",
    "UNION ALL\n",
    "{% endif %}\n",
    "{% endfor %};\n",
    "\"\"\")"
   ]
  },
  {
   "cell_type": "code",
   "execution_count": 57,
   "id": "joint-karma",
   "metadata": {},
   "outputs": [
    {
     "name": "stdout",
     "output_type": "stream",
     "text": [
      "=========== project_created ===========\n",
      "\n",
      "\n",
      "SELECT\n",
      "    timestamp,\n",
      "    user_id\n",
      "FROM `over-data.events.project_created\n",
      "WHERE _PARTITIONTIME = '2021-04-01'\n",
      "\n",
      "\n",
      "UNION ALL\n",
      "\n",
      "\n",
      "SELECT\n",
      "    timestamp,\n",
      "    user_id\n",
      "FROM `over-data.over_android.project_created\n",
      "WHERE _PARTITIONTIME = '2021-04-01'\n",
      "\n",
      "\n",
      "UNION ALL\n",
      "\n",
      "\n",
      "SELECT\n",
      "    timestamp,\n",
      "    user_id\n",
      "FROM `over-data.over_web_events.project_created\n",
      "WHERE _PARTITIONTIME = '2021-04-01'\n",
      "\n",
      "\n",
      "UNION ALL\n",
      "\n",
      "\n",
      "SELECT\n",
      "    timestamp,\n",
      "    user_id\n",
      "FROM `over-data.over_blackberry.project_created\n",
      "WHERE _PARTITIONTIME = '2021-04-01'\n",
      "\n",
      "\n",
      ";\n",
      "=========== project_exported ===========\n",
      "\n",
      "\n",
      "SELECT\n",
      "    timestamp,\n",
      "    user_id\n",
      "FROM `over-data.events.project_exported\n",
      "WHERE _PARTITIONTIME = '2021-04-01'\n",
      "\n",
      "\n",
      "UNION ALL\n",
      "\n",
      "\n",
      "SELECT\n",
      "    timestamp,\n",
      "    user_id\n",
      "FROM `over-data.over_android.project_exported\n",
      "WHERE _PARTITIONTIME = '2021-04-01'\n",
      "\n",
      "\n",
      "UNION ALL\n",
      "\n",
      "\n",
      "SELECT\n",
      "    timestamp,\n",
      "    user_id\n",
      "FROM `over-data.over_web_events.project_exported\n",
      "WHERE _PARTITIONTIME = '2021-04-01'\n",
      "\n",
      "\n",
      "UNION ALL\n",
      "\n",
      "\n",
      "SELECT\n",
      "    timestamp,\n",
      "    user_id\n",
      "FROM `over-data.over_blackberry.project_exported\n",
      "WHERE _PARTITIONTIME = '2021-04-01'\n",
      "\n",
      "\n",
      ";\n",
      "=========== project_opened ===========\n",
      "\n",
      "\n",
      "SELECT\n",
      "    timestamp,\n",
      "    user_id\n",
      "FROM `over-data.events.project_opened\n",
      "WHERE _PARTITIONTIME = '2021-04-01'\n",
      "\n",
      "\n",
      "UNION ALL\n",
      "\n",
      "\n",
      "SELECT\n",
      "    timestamp,\n",
      "    user_id\n",
      "FROM `over-data.over_android.project_opened\n",
      "WHERE _PARTITIONTIME = '2021-04-01'\n",
      "\n",
      "\n",
      "UNION ALL\n",
      "\n",
      "\n",
      "SELECT\n",
      "    timestamp,\n",
      "    user_id\n",
      "FROM `over-data.over_web_events.project_opened\n",
      "WHERE _PARTITIONTIME = '2021-04-01'\n",
      "\n",
      "\n",
      "UNION ALL\n",
      "\n",
      "\n",
      "SELECT\n",
      "    timestamp,\n",
      "    user_id\n",
      "FROM `over-data.over_blackberry.project_opened\n",
      "WHERE _PARTITIONTIME = '2021-04-01'\n",
      "\n",
      "\n",
      ";\n"
     ]
    }
   ],
   "source": [
    "datasets = ['events', 'over_android', 'over_web_events', 'over_blackberry']\n",
    "events = ['project_created', 'project_exported', 'project_opened']\n",
    "ds = '2021-04-01'\n",
    "\n",
    "for e in events:\n",
    "    print(f'=========== {e} ===========')\n",
    "    print(event_template.render(datasets=datasets, event=e, ds=ds))\n"
   ]
  },
  {
   "cell_type": "markdown",
   "id": "powered-tonight",
   "metadata": {},
   "source": [
    "The whitespace isn't aesthetically pleasing, but this is functional."
   ]
  },
  {
   "cell_type": "markdown",
   "id": "proprietary-digest",
   "metadata": {},
   "source": [
    "## SQL Injection\n",
    "\n",
    "Whenever we are inserting values into strings that are going to be used in SQL, especially when the values come from a user.\n",
    "\n",
    "Consider the following scenario:\n",
    "\n",
    "```\n",
    "GET /user/search/<name> searches for a user by name\n",
    "```\n",
    "\n",
    "Let's see what a naive implementation might look like:"
   ]
  },
  {
   "cell_type": "code",
   "execution_count": 45,
   "id": "protected-greece",
   "metadata": {},
   "outputs": [],
   "source": [
    "def search_for_user(name):\n",
    "    '''\n",
    "    Our search will pretend to do something but actually just return the rendered SQL for us\n",
    "    '''\n",
    "    sql_template = Template(\"SELECT name, profile_picture_url FROM users WHERE name LIKE '{{ name }}%'\")\n",
    "    return sql_template.render(name=name)"
   ]
  },
  {
   "cell_type": "code",
   "execution_count": 58,
   "id": "powered-behalf",
   "metadata": {},
   "outputs": [
    {
     "data": {
      "text/plain": [
       "\"SELECT name, profile_picture_url FROM users WHERE name LIKE 'al%'\""
      ]
     },
     "execution_count": 58,
     "metadata": {},
     "output_type": "execute_result"
    }
   ],
   "source": [
    "search_for_user('al')"
   ]
  },
  {
   "cell_type": "markdown",
   "id": "awful-blond",
   "metadata": {},
   "source": [
    "Looks good so far.\n",
    "\n",
    "What if a malicious user provides the input `al'; DROP TABLE users;`?"
   ]
  },
  {
   "cell_type": "code",
   "execution_count": 47,
   "id": "brief-wesley",
   "metadata": {},
   "outputs": [
    {
     "data": {
      "text/plain": [
       "\"SELECT name, profile_picture_url FROM users WHERE name LIKE 'al'; DROP TABLE users;%'\""
      ]
     },
     "execution_count": 47,
     "metadata": {},
     "output_type": "execute_result"
    }
   ],
   "source": [
    "search_for_user(\"al'; DROP TABLE users;\")"
   ]
  },
  {
   "cell_type": "markdown",
   "id": "altered-lawsuit",
   "metadata": {},
   "source": [
    "Uh oh, now we have three SQL statements and one is very destructive."
   ]
  },
  {
   "cell_type": "markdown",
   "id": "empirical-freight",
   "metadata": {},
   "source": [
    "### Mitigations\n",
    "\n",
    "Typically SQL Injection is mitigated by using named parameters in SQL driver libraries and setting the input from those parameters, which is then escaped.\n",
    "\n",
    "The result would be something that would look more like this:"
   ]
  },
  {
   "cell_type": "code",
   "execution_count": 49,
   "id": "pleasant-satisfaction",
   "metadata": {},
   "outputs": [
    {
     "name": "stdout",
     "output_type": "stream",
     "text": [
      "SELECT name, profile_picture_url FROM users WHERE name LIKE 'al\\'; DROP TABLE users;%'\n"
     ]
    }
   ],
   "source": [
    "print(search_for_user(\"al\\\\'; DROP TABLE users;\"))"
   ]
  }
 ],
 "metadata": {
  "kernelspec": {
   "display_name": "Python 3",
   "language": "python",
   "name": "python3"
  },
  "language_info": {
   "codemirror_mode": {
    "name": "ipython",
    "version": 3
   },
   "file_extension": ".py",
   "mimetype": "text/x-python",
   "name": "python",
   "nbconvert_exporter": "python",
   "pygments_lexer": "ipython3",
   "version": "3.7.9"
  }
 },
 "nbformat": 4,
 "nbformat_minor": 5
}
