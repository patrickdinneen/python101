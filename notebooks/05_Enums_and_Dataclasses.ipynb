{
 "cells": [
  {
   "cell_type": "markdown",
   "id": "upper-easter",
   "metadata": {},
   "source": [
    "# Enums and Dataclasses\n",
    "\n",
    "Often we would like to be able to refer to a fixed set of values as constants.\n",
    "\n",
    "Consider, for example, a program that works with the points of the compass. We could refer to them as string values, but this would leave us exposed to spelling errors, differences of convention (should `North West` be hyphenated? Could it be referred to as `NW`?).\n",
    "\n",
    "Instead let us define the points of the compass and see how we might use them when writing some classes."
   ]
  },
  {
   "cell_type": "code",
   "execution_count": 7,
   "id": "passing-powder",
   "metadata": {},
   "outputs": [],
   "source": [
    "from enum import Enum\n",
    "from dataclasses import dataclass, field\n",
    "from typing import List\n",
    "\n",
    "\n",
    "class Direction(Enum):\n",
    "    NORTH = 1\n",
    "    NORTH_WEST = 2\n",
    "    NORTH_EAST = 3\n",
    "    SOUTH = 4\n",
    "    SOUTH_WEST = 5\n",
    "    SOUTH_EAST = 6\n",
    "    EAST = 7\n",
    "    WEST = 8\n",
    "    \n",
    "\n",
    "@dataclass\n",
    "class NavigationInstruction:\n",
    "    direction: Direction\n",
    "    distance: int\n",
    "        \n",
    "    def print_instruction(self):\n",
    "        print(f'Move {self.distance}m {self.direction.name}')\n",
    "\n",
    "\n",
    "@dataclass\n",
    "class Path:\n",
    "    instructions: List[NavigationInstruction] = field(default_factory=list)\n",
    "        \n",
    "    def print_all(self):\n",
    "        for instruction in self.instructions:\n",
    "            instruction.print_instruction()"
   ]
  },
  {
   "cell_type": "code",
   "execution_count": 8,
   "id": "outside-method",
   "metadata": {},
   "outputs": [],
   "source": [
    "path = Path(instructions=[NavigationInstruction(Direction.NORTH, 50),\n",
    "                          NavigationInstruction(Direction.EAST, 100),\n",
    "                          NavigationInstruction(Direction.NORTH_WEST, 75)])"
   ]
  },
  {
   "cell_type": "code",
   "execution_count": 9,
   "id": "finnish-miller",
   "metadata": {},
   "outputs": [
    {
     "name": "stdout",
     "output_type": "stream",
     "text": [
      "Move 50m NORTH\n",
      "Move 100m EAST\n",
      "Move 75m NORTH_WEST\n"
     ]
    }
   ],
   "source": [
    "path.print_all()"
   ]
  },
  {
   "cell_type": "markdown",
   "id": "productive-object",
   "metadata": {},
   "source": [
    "## Some notes\n",
    "\n",
    "Python will still allow us to pass any values in when constructing `NavigationInstruction`. This is because Python doesn't do any type checking at run time. We can use `MyPy` to run static analysis of our code and ensure that it we aren't passing invalid values in (this is definitely a good thing to do) but the greater value comes from communicating our intent clearly to our future selves and collaborators.\n",
    "\n",
    "When using a `list` or a `dict` in a dataclass we need to provide a value to the `default_factory`"
   ]
  },
  {
   "cell_type": "markdown",
   "id": "tested-franklin",
   "metadata": {},
   "source": [
    "## Further Reading\n",
    "\n",
    "[Enums](https://docs.python.org/3.7/library/enum.html)\n",
    "\n",
    "[Dataclasses](https://docs.python.org/3.7/library/dataclasses.html)"
   ]
  }
 ],
 "metadata": {
  "kernelspec": {
   "display_name": "Python 3",
   "language": "python",
   "name": "python3"
  },
  "language_info": {
   "codemirror_mode": {
    "name": "ipython",
    "version": 3
   },
   "file_extension": ".py",
   "mimetype": "text/x-python",
   "name": "python",
   "nbconvert_exporter": "python",
   "pygments_lexer": "ipython3",
   "version": "3.7.9"
  }
 },
 "nbformat": 4,
 "nbformat_minor": 5
}
