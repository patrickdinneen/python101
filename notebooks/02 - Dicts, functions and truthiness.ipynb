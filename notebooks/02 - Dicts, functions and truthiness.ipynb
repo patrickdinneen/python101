{
 "cells": [
  {
   "cell_type": "markdown",
   "id": "alive-chart",
   "metadata": {},
   "source": [
    "# Dicts, Logic, Functions, Truthiness\n",
    "\n",
    "## Dictionaries aka Dicts\n",
    "\n",
    "A `Dict` is a data type provides a way of mapping keys to values. This is sometimes also referred to as a `Map` or `HashMap` in other languages.\n",
    "\n",
    "Let us consider an example in which we map names to telephone extensions (how quaint!)"
   ]
  },
  {
   "cell_type": "code",
   "execution_count": 57,
   "id": "straight-keeping",
   "metadata": {},
   "outputs": [
    {
     "name": "stdout",
     "output_type": "stream",
     "text": [
      "{'jess': 1234, 'jordan': 2345, 'dhh': 3456}\n"
     ]
    }
   ],
   "source": [
    "name3 = 'dhh'\n",
    "\n",
    "telephone_extensions = {'jess': 1234, 'jordan': 2345, name3: 3456}\n",
    "\n",
    "name3 = 'mark'\n",
    "\n",
    "print(telephone_extensions)"
   ]
  },
  {
   "cell_type": "markdown",
   "id": "present-florist",
   "metadata": {},
   "source": [
    "### Dict Literals\n",
    "\n",
    "Dicts can be declared and populated using braces the syntax \n",
    "\n",
    "```python\n",
    "{key1: value1, key2: value2, key3: value3}\n",
    "```\n",
    "\n",
    "Values are retrieved much like indexing a `list`, using square brackets."
   ]
  },
  {
   "cell_type": "code",
   "execution_count": 50,
   "id": "divine-fabric",
   "metadata": {},
   "outputs": [
    {
     "data": {
      "text/plain": [
       "3456"
      ]
     },
     "execution_count": 50,
     "metadata": {},
     "output_type": "execute_result"
    }
   ],
   "source": [
    "telephone_extensions[name3]"
   ]
  },
  {
   "cell_type": "markdown",
   "id": "parliamentary-edgar",
   "metadata": {},
   "source": [
    "Values can also be updated using the same syntax in conjunction with an equals sign."
   ]
  },
  {
   "cell_type": "code",
   "execution_count": 51,
   "id": "statutory-apollo",
   "metadata": {},
   "outputs": [
    {
     "name": "stdout",
     "output_type": "stream",
     "text": [
      "{'jess': 1231, 'jordan': 2345, 'dhh': 3456}\n"
     ]
    }
   ],
   "source": [
    "telephone_extensions['jess'] = 1231\n",
    "\n",
    "print(telephone_extensions)"
   ]
  },
  {
   "cell_type": "markdown",
   "id": "selected-omega",
   "metadata": {},
   "source": [
    "You can also insert new values in the same way:"
   ]
  },
  {
   "cell_type": "code",
   "execution_count": 60,
   "id": "liberal-third",
   "metadata": {},
   "outputs": [
    {
     "name": "stdout",
     "output_type": "stream",
     "text": [
      "{'jess': 1234, 'jordan': 2345, 'dhh': 3456, 'patrick': 4546}\n"
     ]
    }
   ],
   "source": [
    "telephone_extensions['patrick'] = 4546\n",
    "\n",
    "print(telephone_extensions)"
   ]
  },
  {
   "cell_type": "code",
   "execution_count": 55,
   "id": "checked-conflict",
   "metadata": {},
   "outputs": [
    {
     "data": {
      "text/plain": [
       "{'patrick': {'location': 'Cape Town', 'somethihng': 1}}"
      ]
     },
     "execution_count": 55,
     "metadata": {},
     "output_type": "execute_result"
    }
   ],
   "source": [
    "config = dict()\n",
    "config['patrick'] = {'location': 'Cape Town', 'somethihng': 1}\n",
    "config"
   ]
  },
  {
   "cell_type": "markdown",
   "id": "injured-stream",
   "metadata": {},
   "source": [
    "### Accessing non-existent keys\n",
    "\n",
    "What happens when you try to retrieve a key that doesn't exist?"
   ]
  },
  {
   "cell_type": "code",
   "execution_count": 58,
   "id": "durable-atlantic",
   "metadata": {},
   "outputs": [
    {
     "ename": "KeyError",
     "evalue": "'guido'",
     "output_type": "error",
     "traceback": [
      "\u001b[0;31m---------------------------------------------------------------------------\u001b[0m",
      "\u001b[0;31mKeyError\u001b[0m                                  Traceback (most recent call last)",
      "\u001b[0;32m<ipython-input-58-b289228ce50a>\u001b[0m in \u001b[0;36m<module>\u001b[0;34m\u001b[0m\n\u001b[0;32m----> 1\u001b[0;31m \u001b[0mtelephone_extensions\u001b[0m\u001b[0;34m[\u001b[0m\u001b[0;34m'guido'\u001b[0m\u001b[0;34m]\u001b[0m\u001b[0;34m\u001b[0m\u001b[0;34m\u001b[0m\u001b[0m\n\u001b[0m",
      "\u001b[0;31mKeyError\u001b[0m: 'guido'"
     ]
    }
   ],
   "source": [
    "telephone_extensions['guido']"
   ]
  },
  {
   "cell_type": "markdown",
   "id": "particular-fundamental",
   "metadata": {},
   "source": [
    "Accessing an key using the square brackets raises an Error (we'll get back to these later) if the key is not in the dictionary."
   ]
  },
  {
   "cell_type": "markdown",
   "id": "academic-oxide",
   "metadata": {},
   "source": [
    "### Other useful dict operations:\n",
    "\n",
    "We can access the keys and the values separately as lists (sort of).\n",
    "\n",
    "Sort of because dicts are not ordered. The order in which you'll receive keys or values is not guaranteed."
   ]
  },
  {
   "cell_type": "code",
   "execution_count": 61,
   "id": "permanent-craft",
   "metadata": {},
   "outputs": [
    {
     "name": "stdout",
     "output_type": "stream",
     "text": [
      "dict_keys(['jess', 'jordan', 'dhh', 'patrick'])\n"
     ]
    }
   ],
   "source": [
    "print(telephone_extensions.keys())"
   ]
  },
  {
   "cell_type": "code",
   "execution_count": 62,
   "id": "genuine-first",
   "metadata": {},
   "outputs": [
    {
     "name": "stdout",
     "output_type": "stream",
     "text": [
      "dict_values([1234, 2345, 3456, 4546])\n"
     ]
    }
   ],
   "source": [
    "print(telephone_extensions.values())"
   ]
  },
  {
   "cell_type": "markdown",
   "id": "motivated-implement",
   "metadata": {},
   "source": [
    "It might be more useful to use these values in a for loop:"
   ]
  },
  {
   "cell_type": "code",
   "execution_count": 63,
   "id": "egyptian-breast",
   "metadata": {},
   "outputs": [
    {
     "name": "stdout",
     "output_type": "stream",
     "text": [
      "jess is in the dictionary\n",
      "jordan is in the dictionary\n",
      "dhh is in the dictionary\n",
      "patrick is in the dictionary\n"
     ]
    }
   ],
   "source": [
    "for name in telephone_extensions.keys():\n",
    "    print(f'{name} is in the dictionary')"
   ]
  },
  {
   "cell_type": "markdown",
   "id": "absent-andrew",
   "metadata": {},
   "source": [
    "We can also safely access keys, in a way that doesn't raise an error if no key exists."
   ]
  },
  {
   "cell_type": "code",
   "execution_count": 64,
   "id": "ambient-advocacy",
   "metadata": {},
   "outputs": [
    {
     "name": "stdout",
     "output_type": "stream",
     "text": [
      "4546\n"
     ]
    }
   ],
   "source": [
    "print(telephone_extensions.get('patrick'))"
   ]
  },
  {
   "cell_type": "code",
   "execution_count": 65,
   "id": "desirable-dressing",
   "metadata": {},
   "outputs": [
    {
     "name": "stdout",
     "output_type": "stream",
     "text": [
      "None\n"
     ]
    }
   ],
   "source": [
    "print(telephone_extensions.get('guido'))"
   ]
  },
  {
   "cell_type": "markdown",
   "id": "complete-train",
   "metadata": {},
   "source": [
    "### None!\n",
    "\n",
    "`None` is the Python equivalent of `null`\n",
    "\n",
    "We can also use `.get(key, default)` to return a default value when there is no key."
   ]
  },
  {
   "cell_type": "code",
   "execution_count": 66,
   "id": "classified-mistake",
   "metadata": {},
   "outputs": [
    {
     "name": "stdout",
     "output_type": "stream",
     "text": [
      "9999\n"
     ]
    }
   ],
   "source": [
    "print(telephone_extensions.get('guido', 9999))"
   ]
  },
  {
   "cell_type": "markdown",
   "id": "whole-lancaster",
   "metadata": {},
   "source": [
    "## Logic: If-else statements\n",
    "\n",
    "We can test the truth of boolean conditions using `if` and related statements"
   ]
  },
  {
   "cell_type": "code",
   "execution_count": 67,
   "id": "confused-pearl",
   "metadata": {},
   "outputs": [
    {
     "name": "stdout",
     "output_type": "stream",
     "text": [
      "17 is less than 20\n"
     ]
    }
   ],
   "source": [
    "val = 17\n",
    "\n",
    "if val < 20:\n",
    "    print(f\"{val} is less than 20\")\n",
    "else:\n",
    "    print(f\"{val} is greater than or equal to 20\")"
   ]
  },
  {
   "cell_type": "code",
   "execution_count": 68,
   "id": "breathing-sunrise",
   "metadata": {},
   "outputs": [
    {
     "name": "stdout",
     "output_type": "stream",
     "text": [
      "27 is greater than or equal to 20\n"
     ]
    }
   ],
   "source": [
    "val = 27\n",
    "\n",
    "if val < 20:\n",
    "    print(f\"{val} is less than 20\")\n",
    "else:\n",
    "    print(f\"{val} is greater than or equal to 20\")"
   ]
  },
  {
   "cell_type": "markdown",
   "id": "thrown-heart",
   "metadata": {},
   "source": [
    "Each statement is followed by an indented block of code, which can be arbitrarily long.\n",
    "\n",
    "However above we're copy-pasting and it sucks, let's write a function."
   ]
  },
  {
   "cell_type": "code",
   "execution_count": 30,
   "id": "identical-relation",
   "metadata": {},
   "outputs": [],
   "source": [
    "def less_than_twenty(val):\n",
    "    if val < 20:\n",
    "        print(f\"{val} is less than 20\")\n",
    "    else:\n",
    "        print(f\"{val} is greater than or equal to 20\")"
   ]
  },
  {
   "cell_type": "markdown",
   "id": "special-apparatus",
   "metadata": {},
   "source": [
    "Functions are specified using the `def <function_name>(<function arguments>):` syntax"
   ]
  },
  {
   "cell_type": "markdown",
   "id": "cloudy-advertising",
   "metadata": {},
   "source": [
    "In addition to equality and comparison operators we can also use `in` to test membership"
   ]
  },
  {
   "cell_type": "code",
   "execution_count": 70,
   "id": "alone-hotel",
   "metadata": {},
   "outputs": [],
   "source": [
    "def is_lucky_number(val):\n",
    "    lucky_numbers = [1190, 2289, 3378]\n",
    "    \n",
    "    if val in lucky_numbers:\n",
    "        print(\"You're a winner!\")\n",
    "    else:\n",
    "        print(\"Try again\")"
   ]
  },
  {
   "cell_type": "code",
   "execution_count": 71,
   "id": "sudden-hands",
   "metadata": {},
   "outputs": [
    {
     "name": "stdout",
     "output_type": "stream",
     "text": [
      "Try again\n"
     ]
    }
   ],
   "source": [
    "is_lucky_number(100)"
   ]
  },
  {
   "cell_type": "code",
   "execution_count": 72,
   "id": "irish-penguin",
   "metadata": {},
   "outputs": [
    {
     "name": "stdout",
     "output_type": "stream",
     "text": [
      "You're a winner!\n"
     ]
    }
   ],
   "source": [
    "is_lucky_number(1190)"
   ]
  },
  {
   "cell_type": "markdown",
   "id": "quick-clarity",
   "metadata": {},
   "source": [
    "We could also use this for the keys of our dict:"
   ]
  },
  {
   "cell_type": "code",
   "execution_count": 73,
   "id": "developmental-martin",
   "metadata": {},
   "outputs": [],
   "source": [
    "def dial_telephone_extension(telephone_extensions, name):\n",
    "    reception = 8080\n",
    "    if name in telephone_extensions.keys():\n",
    "        ext = telephone_extensions[name]\n",
    "        print(f'Dialing {name} on: {ext}')\n",
    "    else:\n",
    "        print(f'No extension for {name}, dialing reception: {reception}')"
   ]
  },
  {
   "cell_type": "code",
   "execution_count": 74,
   "id": "hairy-syria",
   "metadata": {},
   "outputs": [
    {
     "name": "stdout",
     "output_type": "stream",
     "text": [
      "Dialing patrick on: 4546\n"
     ]
    }
   ],
   "source": [
    "dial_telephone_extension(telephone_extensions, 'patrick')"
   ]
  },
  {
   "cell_type": "code",
   "execution_count": 75,
   "id": "unable-providence",
   "metadata": {},
   "outputs": [
    {
     "name": "stdout",
     "output_type": "stream",
     "text": [
      "No extension for guido, dialing reception: 8080\n"
     ]
    }
   ],
   "source": [
    "dial_telephone_extension(telephone_extensions, 'guido')"
   ]
  },
  {
   "cell_type": "markdown",
   "id": "foreign-float",
   "metadata": {},
   "source": [
    "## Truthiness and first class functions\n",
    "\n",
    "Remember `dict.get()` returned `None`, let's return to that:"
   ]
  },
  {
   "cell_type": "code",
   "execution_count": 41,
   "id": "welcome-senegal",
   "metadata": {},
   "outputs": [
    {
     "name": "stdout",
     "output_type": "stream",
     "text": [
      "guido is not listed\n"
     ]
    }
   ],
   "source": [
    "name = 'guido'\n",
    "\n",
    "if telephone_extensions.get(name) is not None:\n",
    "    print(f'{name} is listed')\n",
    "else:\n",
    "    print(f'{name} is not listed')"
   ]
  },
  {
   "cell_type": "markdown",
   "id": "limited-dancing",
   "metadata": {},
   "source": [
    "This can be condensed using Truthiness:"
   ]
  },
  {
   "cell_type": "code",
   "execution_count": 42,
   "id": "national-found",
   "metadata": {},
   "outputs": [
    {
     "name": "stdout",
     "output_type": "stream",
     "text": [
      "guido is not listed\n"
     ]
    }
   ],
   "source": [
    "name = 'guido'\n",
    "\n",
    "if telephone_extensions.get(name) is not None:\n",
    "    print(f'{name} is listed')\n",
    "else:\n",
    "    print(f'{name} is not listed')"
   ]
  },
  {
   "cell_type": "code",
   "execution_count": 43,
   "id": "available-capability",
   "metadata": {},
   "outputs": [],
   "source": [
    "def truthy_telephone_lookup(telephone_extensions, name):\n",
    "    if telephone_extensions.get(name):\n",
    "        print(f'{name} is listed')\n",
    "    else:\n",
    "        print(f'{name} is not listed')"
   ]
  },
  {
   "cell_type": "code",
   "execution_count": 44,
   "id": "ranging-final",
   "metadata": {},
   "outputs": [
    {
     "name": "stdout",
     "output_type": "stream",
     "text": [
      "guido is not listed\n"
     ]
    }
   ],
   "source": [
    "truthy_telephone_lookup(telephone_extensions, 'guido')"
   ]
  },
  {
   "cell_type": "code",
   "execution_count": 45,
   "id": "equivalent-medicine",
   "metadata": {},
   "outputs": [
    {
     "name": "stdout",
     "output_type": "stream",
     "text": [
      "patrick is listed\n"
     ]
    }
   ],
   "source": [
    "truthy_telephone_lookup(telephone_extensions, 'patrick')"
   ]
  }
 ],
 "metadata": {
  "kernelspec": {
   "display_name": "Python 3",
   "language": "python",
   "name": "python3"
  },
  "language_info": {
   "codemirror_mode": {
    "name": "ipython",
    "version": 3
   },
   "file_extension": ".py",
   "mimetype": "text/x-python",
   "name": "python",
   "nbconvert_exporter": "python",
   "pygments_lexer": "ipython3",
   "version": "3.7.9"
  }
 },
 "nbformat": 4,
 "nbformat_minor": 5
}
