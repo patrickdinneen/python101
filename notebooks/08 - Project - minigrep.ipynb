{
 "cells": [
  {
   "cell_type": "markdown",
   "id": "focal-charm",
   "metadata": {},
   "source": [
    "# minigrep\n",
    "\n",
    "Your task is to create a tool that is similar to `grep`. This tool should search for matching lines, using regular expressions, in the files provided as input.\n",
    "\n",
    "Example help:\n",
    "```shell\n",
    "usage: minigrep.py [-h] search_pattern input_files\n",
    "\n",
    "Searches given input files, selecting lines that the provided regular\n",
    "expression.\n",
    "\n",
    "positional arguments:\n",
    "  search_pattern  Regex search pattern\n",
    "  input_files     File path or URL. Wildcards are supported in file paths.If\n",
    "                  the path is a directory, all files in that directory are\n",
    "                  used as input.\n",
    "\n",
    "optional arguments:\n",
    "  -h, --help      show this help message and exit\n",
    "```\n",
    "\n",
    "Example usage:\n",
    "```shell\n",
    "python minigrep.py '^Hello.*World$' books/*.txt\n",
    "```\n",
    "\n",
    "This should find all files matching the pattern and for each line that matches the regular expression print out the filename, line number and the line itself."
   ]
  },
  {
   "cell_type": "markdown",
   "id": "south-search",
   "metadata": {},
   "source": [
    "## Sample grep output\n",
    "\n",
    "```shell\n",
    "(.venv)  ~/work/ext/python101> grep -n delight sample-text/*.txt\n",
    "```\n",
    "\n",
    "Output:\n",
    "```\n",
    "sample-text/moby-dick-5k.txt:2531:delights of air and earth; and ‘vomited out Jonah upon the dry land;’\n",
    "sample-text/moby-dick-5k.txt:2550:every woe, there is a sure delight; and higher the top of that delight,\n",
    "sample-text/moby-dick-5k.txt:2553:delight—who against the proud gods and commodores of this earth, ever\n",
    "sample-text/moby-dick-5k.txt:2559:delight is to him, who acknowledges no law or lord, but the Lord his\n",
    "sample-text/moby-dick-5k.txt:2562:from this sure Keel of the Ages. And eternal delight and deliciousness\n",
    "sample-text/moby-dick-5k.txt:2739:consciousness you feel most delightfully and unmistakably warm. For\n",
    "sample-text/moby-dick-5k.txt:3173:came in, the mystery was delightfully explained. Oh, sweet friends!\n",
    "sample-text/moby-dick-5k.txt:4782:all Martial Commanders whom the world invariably delights to honor. And\n",
    "sample-text/pride-and-prejudice-5k.txt:196:      place, and was so much delighted with it, that he agreed with Mr.\n",
    "sample-text/pride-and-prejudice-5k.txt:261:      You take delight in vexing me. You have no compassion for my poor\n",
    "sample-text/pride-and-prejudice-5k.txt:410:      report was highly favourable. Sir William had been delighted with\n",
    "sample-text/pride-and-prejudice-5k.txt:413:      assembly with a large party. Nothing could be more delightful! To\n",
    "sample-text/pride-and-prejudice-5k.txt:523:      she had a lively, playful disposition, which delighted in\n",
    "sample-text/pride-and-prejudice-5k.txt:546:      most delightful evening, a most excellent ball. I wish you had\n",
    "sample-text/pride-and-prejudice-5k.txt:566:      “Oh! my dear, I am quite delighted with him. He is so excessively\n",
    "sample-text/pride-and-prejudice-5k.txt:1013:      Sir William only smiled. “Your friend performs delightfully,” he\n",
    "sample-text/pride-and-prejudice-5k.txt:1250:      uneasy for her, but her mother was delighted. The rain continued\n",
    "sample-text/pride-and-prejudice-5k.txt:1336:      how much she longed for such a visit, was delighted at her\n",
    "sample-text/pride-and-prejudice-5k.txt:1498:      left so small a collection of books. What a delightful library\n",
    "sample-text/pride-and-prejudice-5k.txt:1512:      house, I wish it may be half as delightful as Pemberley.”\n",
    "sample-text/pride-and-prejudice-5k.txt:1540:      delighted me so much. Such a countenance, such manners! And so\n",
    "sample-text/pride-and-prejudice-5k.txt:1823:      this sudden attack was delightful to their mother’s ear:\n",
    "sample-text/pride-and-prejudice-5k.txt:1867:      “How delighted Miss Darcy will be to receive such a letter!”\n",
    "sample-text/pride-and-prejudice-5k.txt:1895:      “Tell your sister I am delighted to hear of her improvement on\n",
    "sample-text/pride-and-prejudice-5k.txt:2069:      but I always delight in overthrowing those kind of schemes, and\n",
    "sample-text/pride-and-prejudice-5k.txt:2168:      great delight.\n",
    "sample-text/pride-and-prejudice-5k.txt:2900:      of such delights was very cheering, and they parted in mutual\n",
    "sample-text/pride-and-prejudice-5k.txt:2988:      Mr. Wickham did not play at whist, and with ready delight was he\n",
    "sample-text/pride-and-prejudice-5k.txt:3364:      ladies were delighted to see their dear friend again, called it\n",
    "sample-text/pride-and-prejudice-5k.txt:3672:      “So, Miss Eliza, I hear you are quite delighted with George\n",
    "sample-text/pride-and-prejudice-5k.txt:3750:      listened with delight to the happy, though modest hopes which\n",
    "sample-text/pride-and-prejudice-5k.txt:3886:      Lucas, who had been long yawning at the repetition of delights\n",
    "sample-text/pride-and-prejudice-5k.txt:3895:      was delightful to her, and she began her song. Elizabeth’s eyes\n",
    "sample-text/pride-and-prejudice-5k.txt:3910:      “That will do extremely well, child. You have delighted us long\n",
    "sample-text/pride-and-prejudice-5k.txt:4007:      the delightful persuasion that, allowing for the necessary\n",
    "sample-text/pride-and-prejudice-5k.txt:4489:      delightful intercourse we have known, and in the meanwhile may\n",
    "sample-text/pride-and-prejudice-5k.txt:4504:      and that the delightful intercourse you have known as friends\n",
    "sample-text/tale-of-two-cities-5k.txt:3843:that its effect was delightful. The disposition of everything in the\n",
    "sample-text/the-great-gatsby-5k.txt:2646:unfathomable delight. It was touching to see them together—it made you\n",
    "sample-text/the-great-gatsby-5k.txt:3165:with delight, and smoothed her hair, whereupon Gatsby sat down and\n",
    "sample-text/the-great-gatsby-5k.txt:3471:“I’m delighted to see you,” said Gatsby, standing on his porch. “I’m\n",
    "sample-text/the-great-gatsby-5k.txt:3472:delighted that you dropped in.”\n",
    "sample-text/the-great-gatsby-5k.txt:3525:“Certainly; I’d be delighted to have you.”\n",
    "```"
   ]
  },
  {
   "cell_type": "markdown",
   "id": "economic-change",
   "metadata": {},
   "source": [
    "## URL support\n",
    "\n",
    "Your program should be able to support searching in URLs:\n",
    "\n",
    "```shell\n",
    "python minigrep.py delight https://meowni.ca/\n",
    "```\n",
    "\n",
    "In future iterations we will add support to recursively visit all linked webpages that are on the same domain and are subpaths."
   ]
  },
  {
   "cell_type": "markdown",
   "id": "assisted-pacific",
   "metadata": {},
   "source": [
    "# Required Python Knowledge\n",
    "\n",
    "1. `argparse` for supporting command line arguments. [Python Docs Argparse Tutorial](https://docs.python.org/3.7/howto/argparse.html)\n",
    "2. `re` for regular expressions. [Python Docs re Tutorial](https://docs.python.org/3.7/howto/regex.html)\n",
    "3. File handling. [Python Docs File Handling](https://docs.python.org/3.7/tutorial/inputoutput.html#reading-and-writing-files)\n",
    "4. `requests` for fetching URLs."
   ]
  },
  {
   "cell_type": "markdown",
   "id": "collect-copyright",
   "metadata": {},
   "source": [
    "# First Step\n",
    "\n",
    "Before writing any code I highly recommend sketching out a design. Use whatever notation you feel comfortable with, this is purely for your own benefit.\n",
    "\n",
    "Try to break the problem down into smaller isolated problems. Rinse and repeat with the smaller problems. Try your hand at grouping the sub-problems into related groups and attempt to name those groups using metaphors that will aid you and future code readers in understanding your design and navigating your code.\n",
    "\n",
    "One approach to try is to go really granular in terms of the problems, until you reach a level that feels approachable to implement. While you might have dozens of small functions (small is a good thing to strive for) you should bundle them up in a way that there are as few large, independent groupings of functions (be it modules or classes), as you achieve."
   ]
  }
 ],
 "metadata": {
  "kernelspec": {
   "display_name": "Python 3",
   "language": "python",
   "name": "python3"
  },
  "language_info": {
   "codemirror_mode": {
    "name": "ipython",
    "version": 3
   },
   "file_extension": ".py",
   "mimetype": "text/x-python",
   "name": "python",
   "nbconvert_exporter": "python",
   "pygments_lexer": "ipython3",
   "version": "3.7.9"
  }
 },
 "nbformat": 4,
 "nbformat_minor": 5
}
