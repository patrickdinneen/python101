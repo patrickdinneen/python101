{
 "cells": [
  {
   "cell_type": "markdown",
   "id": "reflected-reform",
   "metadata": {},
   "source": [
    "# Overview\n",
    "\n",
    "In this notebook we'll look at how we can interact with APIs over HTTP using the `requests` package.\n",
    "\n",
    "We will cover the following:\n",
    "\n",
    "* How to make requests (including HTTP method)\n",
    "* How to work with the response\n",
    "* What kinds of HTTP errors we might encounter\n",
    "* How to raise appropriate HTTP errors"
   ]
  },
  {
   "cell_type": "code",
   "execution_count": 15,
   "id": "settled-spencer",
   "metadata": {},
   "outputs": [],
   "source": [
    "import requests"
   ]
  },
  {
   "cell_type": "markdown",
   "id": "elegant-delivery",
   "metadata": {},
   "source": [
    "## `requests`\n",
    "\n",
    "[requests](https://requests.readthedocs.io/en/master/) is a library for making HTTP requests and handling their responses. It is a de facto standard in Python as it provides a neater interface that the built-in libraries.\n",
    "\n",
    "We'll do a whirlwind tour of HTTP now, but I do recommend reading the [Mozilla Developer Network article on HTTP](https://developer.mozilla.org/en-US/docs/Web/HTTP/Overview)\n",
    "\n",
    "### What is an HTTP request?\n",
    "\n",
    "An HTTP request is a message sent to an HTTP Server (aka web server) for a given resource (expressed as a URL).\n",
    "\n",
    "Most commonly these are the requests that your browser makes when you visit a website.\n",
    "\n",
    "For example, consider the requests made when you visit https://news.ycombinator.com\n",
    "\n",
    "![Requests Example](requests-hn.png)\n",
    "\n",
    "Requests **must** also specify an HTTP Method. Typically this is either `GET` or `POST`.\n",
    "\n",
    "Requests may optionally specify headers that can be useful for providing authentication or specifying expect content types.\n",
    "\n",
    "In the simplest (and original configuration) almost all requests corresponded files on a webserver that would be returned. Somebody would write an HTML file and then when the URL for that file was requested, the webserver would return the file contents.\n",
    "\n",
    "However this has evolved and now a URL (universal *resource* locator) frequently corresponds to some API method or logical action that the webserver will invoke and return the results of.\n",
    "\n",
    "In either case the webserver will send back an HTTP response.\n",
    "\n",
    "### What is an HTTP response?\n",
    "\n",
    "A message sent in response to an HTTP request. This contains:\n",
    "\n",
    "* An HTTP status: the result of the request (did it succeed, if so how, did it fail, if so how)\n",
    "* Payload/response content/body: the actual data. In the case of a file request this returns the content of the requested file.\n",
    "* Response headers: metadata pertaining to the payload and the request\n",
    "\n",
    "![Responses Example](requests-hn-payload.png)\n",
    "\n",
    "### HTTP Status Codes\n",
    "\n",
    "Status codes are numbers that correspond to messages. We will use the notation 1xx to refer to 100 to 199.\n",
    "\n",
    "**1xx** \n",
    "Informational messages (I have never received one of these)\n",
    "\n",
    "**2xx**\n",
    "Success messages. While there are different types of success, you almost always looking for:\n",
    "200 - OK\n",
    "\n",
    "**3xx**\n",
    "Redirect messages. These are common but are frequently handled by your client library.\n",
    "Essentially the resource you have asked for has moved and you should make a new request with the redirect data.\n",
    "\n",
    "**4xx**\n",
    "User error messages.\n",
    "\n",
    "These happen when the webserver is working as expected but something is wrong with the request. If you resend the same request you will receive the same error because the issue is with the request, not the webserver.\n",
    "\n",
    "Most frequently you might see:\n",
    "403 - Forbidden: you are not authorized to access the URL\n",
    "404 - File Not Found\n",
    "\n",
    "**5xx**\n",
    "Server error messages.\n",
    "\n",
    "These happen when something has gone wrong on the webserver. Typically this either due to the server encountering an error while trying to respond (programming error in the API) or a timeout or the server being unreachable.\n",
    "\n",
    "Depending on the status code, this family of errors can be handled by retrying. Sometimes the server timed out because it was too busy when you last made the request and it may succeed at a later point with the same request.\n",
    "\n",
    "[More details on MDN](https://developer.mozilla.org/en-US/docs/Web/HTTP/Status)"
   ]
  },
  {
   "cell_type": "markdown",
   "id": "vanilla-south",
   "metadata": {},
   "source": [
    "### Making some requests in Python\n",
    "\n",
    "Let's take a look at what we get when we request https://news.ycombinator.com:"
   ]
  },
  {
   "cell_type": "code",
   "execution_count": 42,
   "id": "biblical-galaxy",
   "metadata": {},
   "outputs": [
    {
     "data": {
      "text/plain": [
       "requests.models.Response"
      ]
     },
     "execution_count": 42,
     "metadata": {},
     "output_type": "execute_result"
    }
   ],
   "source": [
    "hacker_news_homepage_response = requests.get('https://news.ycombinator.com')\n",
    "type(hacker_news_homepage_response)"
   ]
  },
  {
   "cell_type": "markdown",
   "id": "planned-visitor",
   "metadata": {},
   "source": [
    "We can inspect the status code:"
   ]
  },
  {
   "cell_type": "code",
   "execution_count": 8,
   "id": "attached-retail",
   "metadata": {},
   "outputs": [
    {
     "data": {
      "text/plain": [
       "200"
      ]
     },
     "execution_count": 8,
     "metadata": {},
     "output_type": "execute_result"
    }
   ],
   "source": [
    "hacker_news_homepage_response.status_code"
   ]
  },
  {
   "cell_type": "code",
   "execution_count": 43,
   "id": "dimensional-moses",
   "metadata": {},
   "outputs": [
    {
     "data": {
      "text/plain": [
       "'OK'"
      ]
     },
     "execution_count": 43,
     "metadata": {},
     "output_type": "execute_result"
    }
   ],
   "source": [
    "hacker_news_homepage_response.reason"
   ]
  },
  {
   "cell_type": "markdown",
   "id": "looking-acoustic",
   "metadata": {},
   "source": [
    "We can inspect the response headers:"
   ]
  },
  {
   "cell_type": "code",
   "execution_count": 14,
   "id": "based-military",
   "metadata": {},
   "outputs": [
    {
     "data": {
      "text/plain": [
       "{'Server': 'nginx', 'Date': 'Wed, 17 Mar 2021 09:26:59 GMT', 'Content-Type': 'text/html; charset=utf-8', 'Transfer-Encoding': 'chunked', 'Connection': 'keep-alive', 'Vary': 'Accept-Encoding', 'Cache-Control': 'private; max-age=0', 'X-Frame-Options': 'DENY', 'X-Content-Type-Options': 'nosniff', 'X-XSS-Protection': '1; mode=block', 'Referrer-Policy': 'origin', 'Strict-Transport-Security': 'max-age=31556900', 'Content-Security-Policy': \"default-src 'self'; script-src 'self' 'unsafe-inline' https://www.google.com/recaptcha/ https://www.gstatic.com/recaptcha/ https://cdnjs.cloudflare.com/; frame-src 'self' https://www.google.com/recaptcha/; style-src 'self' 'unsafe-inline'\", 'Content-Encoding': 'gzip'}"
      ]
     },
     "execution_count": 14,
     "metadata": {},
     "output_type": "execute_result"
    }
   ],
   "source": [
    "hacker_news_homepage_response.headers"
   ]
  },
  {
   "cell_type": "markdown",
   "id": "republican-semester",
   "metadata": {},
   "source": [
    "The headers tell us some metadata about the response: when it was received, the server we spoke to (nginx), the type of content (text/html) and a bunch of other things that you don't always have to be aware of.\n",
    "\n",
    "Let's examine the actual content."
   ]
  },
  {
   "cell_type": "code",
   "execution_count": 17,
   "id": "organic-carolina",
   "metadata": {},
   "outputs": [
    {
     "data": {
      "text/plain": [
       "b'<html lang=\"en\" op=\"news\"><head><meta name=\"referrer\" content=\"origin\"><meta name=\"viewport\" content=\"width=device-width, initial-scale=1.0\"><link rel=\"stylesheet\" type=\"text/css\" href=\"news.css?QjZXyB0Ejdsp1rLQatoS\">\\n        <link rel=\"shortcut icon\" href=\"favicon.ico\">\\n          <link rel=\"alternate\" type=\"application/rss+xml\" title=\"RSS\" href=\"rss\">\\n        <title>Hacker News</title></head><body><center><table id=\"hnmain\" border=\"0\" cellpadding=\"0\" cellspacing=\"0\" width=\"85%\" bgcolor=\"#f6f6ef\">\\n        <tr><td bgcolor=\"#ff6600\"><table border=\"0\" cellpadding=\"0\" cellspacing=\"0\" width=\"100%\" style=\"padding:2px\"><tr><td style=\"width:18px;padding-right:4px\"><a href=\"https://news.ycombinator.com\"><img src=\"y18.gif\" width=\"18\" height=\"18\" style=\"border:1px white solid;\"></a></td>\\n                  <td style=\"line-height:12pt; height:10px;\"><span class=\"pagetop\"><b class=\"hnname\"><a href=\"news\">Hacker News</a></b>\\n              <a href=\"newest\">new</a> | <a href=\"front\">past</a> | <a href=\"newcomments\">comments</a> | <a href=\"ask\">ask</a> | <a href=\"show\">show</a> | <a href=\"jobs\">jobs</a> | <a href=\"submit\">submit</a>            </span></td><td style=\"text-align:right;padding-right:4px;\"><span class=\"pagetop\">\\n                              <a href=\"login?goto=news\">login</a>\\n                          </span></td>\\n              </tr></table></td></tr>\\n<tr id=\"pagespace\" title=\"\" style=\"height:10px\"></tr><tr><td><table border=\"0\" cellpadding=\"0\" cellspacing=\"0\" class=\"itemlist\">\\n              <tr class=\\'athing\\' id=\\'26487854\\'>\\n      <td align=\"right\" valign=\"top\" class=\"title\"><span class=\"rank\">1.</span></td>      <td valign=\"top\" class=\"votelinks\"><center><a id=\\'up_26487854\\' href=\\'vote?id=26487854&amp;how=up&amp;goto=news\\'><div class=\\'votearrow\\' title=\\'upvote\\'></div></a></center></td><td class=\"title\"><a href=\"https://mooseyanon.medium.com/github-f-ck-your-name-change-de599033bbbe\" class=\"storylink\">GitHub, f ck your name change</a><span class=\"sitebit comhead\"> (<a href=\"from?site=mooseyanon.medium.com\"><span class=\"sitestr\">mooseyanon.medium.com</span></a>)</span></td></tr><tr><td colspan=\"2\"></td><td class=\"subtext\">\\n        <span class=\"score\" id=\"score_26487854\">483 points</span> by <a href=\"user?id=leontrolski\" class=\"hnuser\">leontrolski</a> <span class=\"age\"><a href=\"item?id=26487854\">1 hour ago</a></span> <span id=\"unv_26487854\"></span> | <a href=\"hide?id=26487854&amp;goto=news\">hide</a> | <a href=\"item?id=26487854\">249&nbsp;comments</a>              </td></tr>\\n      <tr class=\"spacer\" style=\"height:5px\"></tr>\\n                <tr class=\\'athing\\' id=\\'26486737\\'>\\n      <td align=\"right\" valign=\"top\" class=\"title\"><span class=\"rank\">2.</span></td>      <td valign=\"top\" class=\"votelinks\"><center><a id=\\'up_26486737\\' href=\\'vote?id=26486737&amp;how=up&amp;goto=news\\'><div class=\\'votearrow\\' title=\\'upvote\\'></div></a></center></td><td class=\"title\"><a href=\"https://android-developers.googleblog.com/2021/03/boosting-dev-success.html\" class=\"storylink\">Boosting developer success on Google Play</a><span class=\"sitebit comhead\"> (<a href=\"from?site=googleblog.com\"><span class=\"sitestr\">googleblog.com</span></a>)</span></td></tr><tr><td colspan=\"2\"></td><td class=\"subtext\">\\n        <span class=\"score\" id=\"score_26486737\">130 points</span> by <a href=\"user?id=h43k3r\" class=\"hnuser\">h43k3r</a> <span class=\"age\"><a href=\"item?id=26486737\">4 hours ago</a></span> <span id=\"unv_26486737\"></span> | <a href=\"hide?id=26486737&amp;goto=news\">hide</a> | <a href=\"item?id=26486737\">85&nbsp;comments</a>              </td></tr>\\n      <tr class=\"spacer\" style=\"height:5px\"></tr>\\n                <tr class=\\'athing\\' id=\\'26487499\\'>\\n      <td align=\"right\" valign=\"top\" class=\"title\"><span class=\"rank\">3.</span></td>      <td valign=\"top\" class=\"votelinks\"><center><a id=\\'up_26487499\\' href=\\'vote?id=26487499&amp;how=up&amp;goto=news\\'><div class=\\'votearrow\\' title=\\'upvote\\'></div></a></center></td><td class=\"title\"><a href=\"https://www.apple.com/newsroom/2021/03/apples-four-point-seven-billion-green-bond-spend-is-helping-to-create-one-point-two-gigawatts-of-clean-power/\" class=\"storylink\">Apple\\xe2\\x80\\x99s $4.7B Green Bond spend is helping to create 1.2 gigawatts of clean power</a><span class=\"sitebit comhead\"> (<a href=\"from?site=apple.com\"><span class=\"sitestr\">apple.com</span></a>)</span></td></tr><tr><td colspan=\"2\"></td><td class=\"subtext\">\\n        <span class=\"score\" id=\"score_26487499\">28 points</span> by <a href=\"user?id=todsacerdoti\" class=\"hnuser\">todsacerdoti</a> <span class=\"age\"><a href=\"item?id=26487499\">2 hours ago</a></span> <span id=\"unv_26487499\"></span> | <a href=\"hide?id=26487499&amp;goto=news\">hide</a> | <a href=\"item?id=26487499\">24&nbsp;comments</a>              </td></tr>\\n      <tr class=\"spacer\" style=\"height:5px\"></tr>\\n                <tr class=\\'athing\\' id=\\'26478692\\'>\\n      <td align=\"right\" valign=\"top\" class=\"title\"><span class=\"rank\">4.</span></td>      <td valign=\"top\" class=\"votelinks\"><center><a id=\\'up_26478692\\' href=\\'vote?id=26478692&amp;how=up&amp;goto=news\\'><div class=\\'votearrow\\' title=\\'upvote\\'></div></a></center></td><td class=\"title\"><a href=\"https://newatlas.com/computers/computer-tool-deepfakes-94-percent-accuracy/\" class=\"storylink\">Computer tool spots deepfakes via tiny reflections in the eyes</a><span class=\"sitebit comhead\"> (<a href=\"from?site=newatlas.com\"><span class=\"sitestr\">newatlas.com</span></a>)</span></td></tr><tr><td colspan=\"2\"></td><td class=\"subtext\">\\n        <span class=\"score\" id=\"score_26478692\">18 points</span> by <a href=\"user?id=DamnInteresting\" class=\"hnuser\">DamnInteresting</a> <span class=\"age\"><a href=\"item?id=26478692\">2 hours ago</a></span> <span id=\"unv_26478692\"></span> | <a href=\"hide?id=26478692&amp;goto=news\">hide</a> | <a href=\"item?id=26478692\">4&nbsp;comments</a>              </td></tr>\\n      <tr class=\"spacer\" style=\"height:5px\"></tr>\\n                <tr class=\\'athing\\' id=\\'26474947\\'>\\n      <td align=\"right\" valign=\"top\" class=\"title\"><span class=\"rank\">5.</span></td>      <td valign=\"top\" class=\"votelinks\"><center><a id=\\'up_26474947\\' href=\\'vote?id=26474947&amp;how=up&amp;goto=news\\'><div class=\\'votearrow\\' title=\\'upvote\\'></div></a></center></td><td class=\"title\"><a href=\"https://ochronus.online/the-5-common-mistakes-of-new-engineering-managers/\" class=\"storylink\">Common Mistakes of New Engineering Managers</a><span class=\"sitebit comhead\"> (<a href=\"from?site=ochronus.online\"><span class=\"sitestr\">ochronus.online</span></a>)</span></td></tr><tr><td colspan=\"2\"></td><td class=\"subtext\">\\n        <span class=\"score\" id=\"score_26474947\">82 points</span> by <a href=\"user?id=ochronus\" class=\"hnuser\">ochronus</a> <span class=\"age\"><a href=\"item?id=26474947\">3 hours ago</a></span> <span id=\"unv_26474947\"></span> | <a href=\"hide?id=26474947&amp;goto=news\">hide</a> | <a href=\"item?id=26474947\">22&nbsp;comments</a>              </td></tr>\\n      <tr class=\"spacer\" style=\"height:5px\"></tr>\\n                <tr class=\\'athing\\' id=\\'26462438\\'>\\n      <td align=\"right\" valign=\"top\" class=\"title\"><span class=\"rank\">6.</span></td>      <td valign=\"top\" class=\"votelinks\"><center><a id=\\'up_26462438\\' href=\\'vote?id=26462438&amp;how=up&amp;goto=news\\'><div class=\\'votearrow\\' title=\\'upvote\\'></div></a></center></td><td class=\"title\"><a href=\"https://www.evanjones.ca/grpc-is-tricky.html\" class=\"storylink\">gRPC Is Easy to Misconfigure</a><span class=\"sitebit comhead\"> (<a href=\"from?site=evanjones.ca\"><span class=\"sitestr\">evanjones.ca</span></a>)</span></td></tr><tr><td colspan=\"2\"></td><td class=\"subtext\">\\n        <span class=\"score\" id=\"score_26462438\">71 points</span> by <a href=\"user?id=zdw\" class=\"hnuser\">zdw</a> <span class=\"age\"><a href=\"item?id=26462438\">4 hours ago</a></span> <span id=\"unv_26462438\"></span> | <a href=\"hide?id=26462438&amp;goto=news\">hide</a> | <a href=\"item?id=26462438\">15&nbsp;comments</a>              </td></tr>\\n      <tr class=\"spacer\" style=\"height:5px\"></tr>\\n                <tr class=\\'athing\\' id=\\'26486761\\'>\\n      <td align=\"right\" valign=\"top\" class=\"title\"><span class=\"rank\">7.</span></td>      <td valign=\"top\" class=\"votelinks\"><center><a id=\\'up_26486761\\' href=\\'vote?id=26486761&amp;how=up&amp;goto=news\\'><div class=\\'votearrow\\' title=\\'upvote\\'></div></a></center></td><td class=\"title\"><a href=\"https://www.cidrap.umn.edu/news-perspective/2021/03/astrazeneca-vaccine-doesnt-prevent-b1351-covid-early-trial\" class=\"storylink\">AstraZeneca vaccine doesn\\'t prevent B1351 Covid in early trial</a><span class=\"sitebit comhead\"> (<a href=\"from?site=umn.edu\"><span class=\"sitestr\">umn.edu</span></a>)</span></td></tr><tr><td colspan=\"2\"></td><td class=\"subtext\">\\n        <span class=\"score\" id=\"score_26486761\">113 points</span> by <a href=\"user?id=reddotX\" class=\"hnuser\">reddotX</a> <span class=\"age\"><a href=\"item?id=26486761\">4 hours ago</a></span> <span id=\"unv_26486761\"></span> | <a href=\"hide?id=26486761&amp;goto=news\">hide</a> | <a href=\"item?id=26486761\">84&nbsp;comments</a>              </td></tr>\\n      <tr class=\"spacer\" style=\"height:5px\"></tr>\\n                <tr class=\\'athing\\' id=\\'26480981\\'>\\n      <td align=\"right\" valign=\"top\" class=\"title\"><span class=\"rank\">8.</span></td>      <td valign=\"top\" class=\"votelinks\"><center><a id=\\'up_26480981\\' href=\\'vote?id=26480981&amp;how=up&amp;goto=news\\'><div class=\\'votearrow\\' title=\\'upvote\\'></div></a></center></td><td class=\"title\"><a href=\"https://moores.samaltman.com/\" class=\"storylink\">Moore\\'s Law for Everything</a><span class=\"sitebit comhead\"> (<a href=\"from?site=samaltman.com\"><span class=\"sitestr\">samaltman.com</span></a>)</span></td></tr><tr><td colspan=\"2\"></td><td class=\"subtext\">\\n        <span class=\"score\" id=\"score_26480981\">345 points</span> by <a href=\"user?id=icey\" class=\"hnuser\">icey</a> <span class=\"age\"><a href=\"item?id=26480981\">14 hours ago</a></span> <span id=\"unv_26480981\"></span> | <a href=\"hide?id=26480981&amp;goto=news\">hide</a> | <a href=\"item?id=26480981\">429&nbsp;comments</a>              </td></tr>\\n      <tr class=\"spacer\" style=\"height:5px\"></tr>\\n                <tr class=\\'athing\\' id=\\'26484234\\'>\\n      <td align=\"right\" valign=\"top\" class=\"title\"><span class=\"rank\">9.</span></td>      <td valign=\"top\" class=\"votelinks\"><center><a id=\\'up_26484234\\' href=\\'vote?id=26484234&amp;how=up&amp;goto=news\\'><div class=\\'votearrow\\' title=\\'upvote\\'></div></a></center></td><td class=\"title\"><a href=\"https://www.wired.com/story/secret-auction-race-ai-supremacy-google-microsoft-baidu/\" class=\"storylink\">The auction that set off the race for AI supremacy</a><span class=\"sitebit comhead\"> (<a href=\"from?site=wired.com\"><span class=\"sitestr\">wired.com</span></a>)</span></td></tr><tr><td colspan=\"2\"></td><td class=\"subtext\">\\n        <span class=\"score\" id=\"score_26484234\">187 points</span> by <a href=\"user?id=chriskanan\" class=\"hnuser\">chriskanan</a> <span class=\"age\"><a href=\"item?id=26484234\">10 hours ago</a></span> <span id=\"unv_26484234\"></span> | <a href=\"hide?id=26484234&amp;goto=news\">hide</a> | <a href=\"item?id=26484234\">79&nbsp;comments</a>              </td></tr>\\n      <tr class=\"spacer\" style=\"height:5px\"></tr>\\n                <tr class=\\'athing\\' id=\\'26485737\\'>\\n      <td align=\"right\" valign=\"top\" class=\"title\"><span class=\"rank\">10.</span></td>      <td valign=\"top\" class=\"votelinks\"><center><a id=\\'up_26485737\\' href=\\'vote?id=26485737&amp;how=up&amp;goto=news\\'><div class=\\'votearrow\\' title=\\'upvote\\'></div></a></center></td><td class=\"title\"><a href=\"https://wiki.shibboleth.net/confluence/display/CONCEPT/SLOIssues\" class=\"storylink\">The Difficulties of SAML Single Logout</a><span class=\"sitebit comhead\"> (<a href=\"from?site=shibboleth.net\"><span class=\"sitestr\">shibboleth.net</span></a>)</span></td></tr><tr><td colspan=\"2\"></td><td class=\"subtext\">\\n        <span class=\"score\" id=\"score_26485737\">71 points</span> by <a href=\"user?id=mooreds\" class=\"hnuser\">mooreds</a> <span class=\"age\"><a href=\"item?id=26485737\">7 hours ago</a></span> <span id=\"unv_26485737\"></span> | <a href=\"hide?id=26485737&amp;goto=news\">hide</a> | <a href=\"item?id=26485737\">40&nbsp;comments</a>              </td></tr>\\n      <tr class=\"spacer\" style=\"height:5px\"></tr>\\n                <tr class=\\'athing\\' id=\\'26487467\\'>\\n      <td align=\"right\" valign=\"top\" class=\"title\"><span class=\"rank\">11.</span></td>      <td></td><td class=\"title\"><a href=\"https://impraise.recruitee.com/o/lead-software-engineer\" class=\"storylink\" rel=\"nofollow\">Impraise (YC S14) Is Hiring a Lead Ruby Engineer</a><span class=\"sitebit comhead\"> (<a href=\"from?site=recruitee.com\"><span class=\"sitestr\">recruitee.com</span></a>)</span></td></tr><tr><td colspan=\"2\"></td><td class=\"subtext\">\\n        <span class=\"age\"><a href=\"item?id=26487467\">2 hours ago</a></span> | <a href=\"hide?id=26487467&amp;goto=news\">hide</a>      </td></tr>\\n      <tr class=\"spacer\" style=\"height:5px\"></tr>\\n                <tr class=\\'athing\\' id=\\'26484339\\'>\\n      <td align=\"right\" valign=\"top\" class=\"title\"><span class=\"rank\">12.</span></td>      <td valign=\"top\" class=\"votelinks\"><center><a id=\\'up_26484339\\' href=\\'vote?id=26484339&amp;how=up&amp;goto=news\\'><div class=\\'votearrow\\' title=\\'upvote\\'></div></a></center></td><td class=\"title\"><a href=\"https://github.com/pyroscope-io/pyroscope/blob/main/docs/storage-design.md\" class=\"storylink\">Show HN: O(log n) makes continuous profiling possible</a><span class=\"sitebit comhead\"> (<a href=\"from?site=github.com/pyroscope-io\"><span class=\"sitestr\">github.com/pyroscope-io</span></a>)</span></td></tr><tr><td colspan=\"2\"></td><td class=\"subtext\">\\n        <span class=\"score\" id=\"score_26484339\">120 points</span> by <a href=\"user?id=petethepig\" class=\"hnuser\">petethepig</a> <span class=\"age\"><a href=\"item?id=26484339\">10 hours ago</a></span> <span id=\"unv_26484339\"></span> | <a href=\"hide?id=26484339&amp;goto=news\">hide</a> | <a href=\"item?id=26484339\">24&nbsp;comments</a>              </td></tr>\\n      <tr class=\"spacer\" style=\"height:5px\"></tr>\\n                <tr class=\\'athing\\' id=\\'26479127\\'>\\n      <td align=\"right\" valign=\"top\" class=\"title\"><span class=\"rank\">13.</span></td>      <td valign=\"top\" class=\"votelinks\"><center><a id=\\'up_26479127\\' href=\\'vote?id=26479127&amp;how=up&amp;goto=news\\'><div class=\\'votearrow\\' title=\\'upvote\\'></div></a></center></td><td class=\"title\"><a href=\"https://github.blog/2021-03-16-improving-large-monorepo-performance-on-github/\" class=\"storylink\">Improving large monorepo performance on GitHub</a><span class=\"sitebit comhead\"> (<a href=\"from?site=github.blog\"><span class=\"sitestr\">github.blog</span></a>)</span></td></tr><tr><td colspan=\"2\"></td><td class=\"subtext\">\\n        <span class=\"score\" id=\"score_26479127\">299 points</span> by <a href=\"user?id=todsacerdoti\" class=\"hnuser\">todsacerdoti</a> <span class=\"age\"><a href=\"item?id=26479127\">16 hours ago</a></span> <span id=\"unv_26479127\"></span> | <a href=\"hide?id=26479127&amp;goto=news\">hide</a> | <a href=\"item?id=26479127\">119&nbsp;comments</a>              </td></tr>\\n      <tr class=\"spacer\" style=\"height:5px\"></tr>\\n                <tr class=\\'athing\\' id=\\'26484080\\'>\\n      <td align=\"right\" valign=\"top\" class=\"title\"><span class=\"rank\">14.</span></td>      <td valign=\"top\" class=\"votelinks\"><center><a id=\\'up_26484080\\' href=\\'vote?id=26484080&amp;how=up&amp;goto=news\\'><div class=\\'votearrow\\' title=\\'upvote\\'></div></a></center></td><td class=\"title\"><a href=\"https://diff.wikimedia.org/2021/03/16/introducing-the-wikimedia-enterprise-api/\" class=\"storylink\">Introducing the Wikimedia Enterprise API</a><span class=\"sitebit comhead\"> (<a href=\"from?site=wikimedia.org\"><span class=\"sitestr\">wikimedia.org</span></a>)</span></td></tr><tr><td colspan=\"2\"></td><td class=\"subtext\">\\n        <span class=\"score\" id=\"score_26484080\">140 points</span> by <a href=\"user?id=dfjorque\" class=\"hnuser\">dfjorque</a> <span class=\"age\"><a href=\"item?id=26484080\">10 hours ago</a></span> <span id=\"unv_26484080\"></span> | <a href=\"hide?id=26484080&amp;goto=news\">hide</a> | <a href=\"item?id=26484080\">69&nbsp;comments</a>              </td></tr>\\n      <tr class=\"spacer\" style=\"height:5px\"></tr>\\n                <tr class=\\'athing\\' id=\\'26487993\\'>\\n      <td align=\"right\" valign=\"top\" class=\"title\"><span class=\"rank\">15.</span></td>      <td valign=\"top\" class=\"votelinks\"><center><a id=\\'up_26487993\\' href=\\'vote?id=26487993&amp;how=up&amp;goto=news\\'><div class=\\'votearrow\\' title=\\'upvote\\'></div></a></center></td><td class=\"title\"><a href=\"https://www.wired.com/story/wikipedia-finally-asking-big-tech-to-pay-up/\" class=\"storylink\">Wikipedia Is Finally Asking Big Tech to Pay Up</a><span class=\"sitebit comhead\"> (<a href=\"from?site=wired.com\"><span class=\"sitestr\">wired.com</span></a>)</span></td></tr><tr><td colspan=\"2\"></td><td class=\"subtext\">\\n        <span class=\"score\" id=\"score_26487993\">10 points</span> by <a href=\"user?id=btheshoe\" class=\"hnuser\">btheshoe</a> <span class=\"age\"><a href=\"item?id=26487993\">50 minutes ago</a></span> <span id=\"unv_26487993\"></span> | <a href=\"hide?id=26487993&amp;goto=news\">hide</a> | <a href=\"item?id=26487993\">1&nbsp;comment</a>              </td></tr>\\n      <tr class=\"spacer\" style=\"height:5px\"></tr>\\n                <tr class=\\'athing\\' id=\\'26482304\\'>\\n      <td align=\"right\" valign=\"top\" class=\"title\"><span class=\"rank\">16.</span></td>      <td valign=\"top\" class=\"votelinks\"><center><a id=\\'up_26482304\\' href=\\'vote?id=26482304&amp;how=up&amp;goto=news\\'><div class=\\'votearrow\\' title=\\'upvote\\'></div></a></center></td><td class=\"title\"><a href=\"https://github.com/samuelkarp/runj#runj\" class=\"storylink\">Runj: Experimental, proof-of-concept OCI-compatible runtime for FreeBSD jails</a><span class=\"sitebit comhead\"> (<a href=\"from?site=github.com/samuelkarp\"><span class=\"sitestr\">github.com/samuelkarp</span></a>)</span></td></tr><tr><td colspan=\"2\"></td><td class=\"subtext\">\\n        <span class=\"score\" id=\"score_26482304\">172 points</span> by <a href=\"user?id=ingve\" class=\"hnuser\">ingve</a> <span class=\"age\"><a href=\"item?id=26482304\">13 hours ago</a></span> <span id=\"unv_26482304\"></span> | <a href=\"hide?id=26482304&amp;goto=news\">hide</a> | <a href=\"item?id=26482304\">12&nbsp;comments</a>              </td></tr>\\n      <tr class=\"spacer\" style=\"height:5px\"></tr>\\n                <tr class=\\'athing\\' id=\\'26464470\\'>\\n      <td align=\"right\" valign=\"top\" class=\"title\"><span class=\"rank\">17.</span></td>      <td valign=\"top\" class=\"votelinks\"><center><a id=\\'up_26464470\\' href=\\'vote?id=26464470&amp;how=up&amp;goto=news\\'><div class=\\'votearrow\\' title=\\'upvote\\'></div></a></center></td><td class=\"title\"><a href=\"https://www.newscientist.com/article/2270527-wooden-floors-rotted-by-fungi-generate-electricity-when-walked-on/\" class=\"storylink\">Wooden floors rotted by fungi generate electricity when walked on</a><span class=\"sitebit comhead\"> (<a href=\"from?site=newscientist.com\"><span class=\"sitestr\">newscientist.com</span></a>)</span></td></tr><tr><td colspan=\"2\"></td><td class=\"subtext\">\\n        <span class=\"score\" id=\"score_26464470\">83 points</span> by <a href=\"user?id=Bluestein\" class=\"hnuser\">Bluestein</a> <span class=\"age\"><a href=\"item?id=26464470\">11 hours ago</a></span> <span id=\"unv_26464470\"></span> | <a href=\"hide?id=26464470&amp;goto=news\">hide</a> | <a href=\"item?id=26464470\">50&nbsp;comments</a>              </td></tr>\\n      <tr class=\"spacer\" style=\"height:5px\"></tr>\\n                <tr class=\\'athing\\' id=\\'26484124\\'>\\n      <td align=\"right\" valign=\"top\" class=\"title\"><span class=\"rank\">18.</span></td>      <td valign=\"top\" class=\"votelinks\"><center><a id=\\'up_26484124\\' href=\\'vote?id=26484124&amp;how=up&amp;goto=news\\'><div class=\\'votearrow\\' title=\\'upvote\\'></div></a></center></td><td class=\"title\"><a href=\"https://krebsonsecurity.com/2021/03/can-we-stop-pretending-sms-is-secure-now/\" class=\"storylink\">Can We Stop Pretending SMS Is Secure Now?</a><span class=\"sitebit comhead\"> (<a href=\"from?site=krebsonsecurity.com\"><span class=\"sitestr\">krebsonsecurity.com</span></a>)</span></td></tr><tr><td colspan=\"2\"></td><td class=\"subtext\">\\n        <span class=\"score\" id=\"score_26484124\">88 points</span> by <a href=\"user?id=parsecs\" class=\"hnuser\">parsecs</a> <span class=\"age\"><a href=\"item?id=26484124\">10 hours ago</a></span> <span id=\"unv_26484124\"></span> | <a href=\"hide?id=26484124&amp;goto=news\">hide</a> | <a href=\"item?id=26484124\">16&nbsp;comments</a>              </td></tr>\\n      <tr class=\"spacer\" style=\"height:5px\"></tr>\\n                <tr class=\\'athing\\' id=\\'26485993\\'>\\n      <td align=\"right\" valign=\"top\" class=\"title\"><span class=\"rank\">19.</span></td>      <td valign=\"top\" class=\"votelinks\"><center><a id=\\'up_26485993\\' href=\\'vote?id=26485993&amp;how=up&amp;goto=news\\'><div class=\\'votearrow\\' title=\\'upvote\\'></div></a></center></td><td class=\"title\"><a href=\"https://jamesward.com/2021/03/16/the-modern-java-platform-2021-edition/\" class=\"storylink\">The Modern Java Platform \\xe2\\x80\\x93 2021 Edition</a><span class=\"sitebit comhead\"> (<a href=\"from?site=jamesward.com\"><span class=\"sitestr\">jamesward.com</span></a>)</span></td></tr><tr><td colspan=\"2\"></td><td class=\"subtext\">\\n        <span class=\"score\" id=\"score_26485993\">126 points</span> by <a href=\"user?id=craigkerstiens\" class=\"hnuser\">craigkerstiens</a> <span class=\"age\"><a href=\"item?id=26485993\">6 hours ago</a></span> <span id=\"unv_26485993\"></span> | <a href=\"hide?id=26485993&amp;goto=news\">hide</a> | <a href=\"item?id=26485993\">99&nbsp;comments</a>              </td></tr>\\n      <tr class=\"spacer\" style=\"height:5px\"></tr>\\n                <tr class=\\'athing\\' id=\\'26480922\\'>\\n      <td align=\"right\" valign=\"top\" class=\"title\"><span class=\"rank\">20.</span></td>      <td valign=\"top\" class=\"votelinks\"><center><a id=\\'up_26480922\\' href=\\'vote?id=26480922&amp;how=up&amp;goto=news\\'><div class=\\'votearrow\\' title=\\'upvote\\'></div></a></center></td><td class=\"title\"><a href=\"https://github.com/apple/swift-evolution/blob/main/proposals/0306-actors.md\" class=\"storylink\">Swift Evolution: Actors</a><span class=\"sitebit comhead\"> (<a href=\"from?site=github.com/apple\"><span class=\"sitestr\">github.com/apple</span></a>)</span></td></tr><tr><td colspan=\"2\"></td><td class=\"subtext\">\\n        <span class=\"score\" id=\"score_26480922\">244 points</span> by <a href=\"user?id=mpweiher\" class=\"hnuser\">mpweiher</a> <span class=\"age\"><a href=\"item?id=26480922\">14 hours ago</a></span> <span id=\"unv_26480922\"></span> | <a href=\"hide?id=26480922&amp;goto=news\">hide</a> | <a href=\"item?id=26480922\">125&nbsp;comments</a>              </td></tr>\\n      <tr class=\"spacer\" style=\"height:5px\"></tr>\\n                <tr class=\\'athing\\' id=\\'26485608\\'>\\n      <td align=\"right\" valign=\"top\" class=\"title\"><span class=\"rank\">21.</span></td>      <td valign=\"top\" class=\"votelinks\"><center><a id=\\'up_26485608\\' href=\\'vote?id=26485608&amp;how=up&amp;goto=news\\'><div class=\\'votearrow\\' title=\\'upvote\\'></div></a></center></td><td class=\"title\"><a href=\"https://harpers.org/archive/2021/04/lost-in-thought-psychological-risks-of-meditation/\" class=\"storylink\">Lost in Thought: Psychological Risks of Meditation</a><span class=\"sitebit comhead\"> (<a href=\"from?site=harpers.org\"><span class=\"sitestr\">harpers.org</span></a>)</span></td></tr><tr><td colspan=\"2\"></td><td class=\"subtext\">\\n        <span class=\"score\" id=\"score_26485608\">139 points</span> by <a href=\"user?id=telotortium\" class=\"hnuser\">telotortium</a> <span class=\"age\"><a href=\"item?id=26485608\">7 hours ago</a></span> <span id=\"unv_26485608\"></span> | <a href=\"hide?id=26485608&amp;goto=news\">hide</a> | <a href=\"item?id=26485608\">132&nbsp;comments</a>              </td></tr>\\n      <tr class=\"spacer\" style=\"height:5px\"></tr>\\n                <tr class=\\'athing\\' id=\\'26480499\\'>\\n      <td align=\"right\" valign=\"top\" class=\"title\"><span class=\"rank\">22.</span></td>      <td valign=\"top\" class=\"votelinks\"><center><a id=\\'up_26480499\\' href=\\'vote?id=26480499&amp;how=up&amp;goto=news\\'><div class=\\'votearrow\\' title=\\'upvote\\'></div></a></center></td><td class=\"title\"><a href=\"https://www.vice.com/en/article/z3vdpj/google-play-store-bans-polyamory-dating-app\" class=\"storylink\">Google Play store bans polyamory dating app</a><span class=\"sitebit comhead\"> (<a href=\"from?site=vice.com\"><span class=\"sitestr\">vice.com</span></a>)</span></td></tr><tr><td colspan=\"2\"></td><td class=\"subtext\">\\n        <span class=\"score\" id=\"score_26480499\">116 points</span> by <a href=\"user?id=pcthrowaway\" class=\"hnuser\">pcthrowaway</a> <span class=\"age\"><a href=\"item?id=26480499\">14 hours ago</a></span> <span id=\"unv_26480499\"></span> | <a href=\"hide?id=26480499&amp;goto=news\">hide</a> | <a href=\"item?id=26480499\">81&nbsp;comments</a>              </td></tr>\\n      <tr class=\"spacer\" style=\"height:5px\"></tr>\\n                <tr class=\\'athing\\' id=\\'26459036\\'>\\n      <td align=\"right\" valign=\"top\" class=\"title\"><span class=\"rank\">23.</span></td>      <td valign=\"top\" class=\"votelinks\"><center><a id=\\'up_26459036\\' href=\\'vote?id=26459036&amp;how=up&amp;goto=news\\'><div class=\\'votearrow\\' title=\\'upvote\\'></div></a></center></td><td class=\"title\"><a href=\"http://nicole.express/2021/how-i-handle-graphics.html\" class=\"storylink\">How I make graphics for retro systems and retro-styled games</a><span class=\"sitebit comhead\"> (<a href=\"from?site=nicole.express\"><span class=\"sitestr\">nicole.express</span></a>)</span></td></tr><tr><td colspan=\"2\"></td><td class=\"subtext\">\\n        <span class=\"score\" id=\"score_26459036\">193 points</span> by <a href=\"user?id=zdw\" class=\"hnuser\">zdw</a> <span class=\"age\"><a href=\"item?id=26459036\">16 hours ago</a></span> <span id=\"unv_26459036\"></span> | <a href=\"hide?id=26459036&amp;goto=news\">hide</a> | <a href=\"item?id=26459036\">38&nbsp;comments</a>              </td></tr>\\n      <tr class=\"spacer\" style=\"height:5px\"></tr>\\n                <tr class=\\'athing\\' id=\\'26485756\\'>\\n      <td align=\"right\" valign=\"top\" class=\"title\"><span class=\"rank\">24.</span></td>      <td valign=\"top\" class=\"votelinks\"><center><a id=\\'up_26485756\\' href=\\'vote?id=26485756&amp;how=up&amp;goto=news\\'><div class=\\'votearrow\\' title=\\'upvote\\'></div></a></center></td><td class=\"title\"><a href=\"https://www.bridgewater.com/research-and-insights/why-in-the-world-would-you-own-bonds-when\" class=\"storylink\">Why in the world would you own bonds?</a><span class=\"sitebit comhead\"> (<a href=\"from?site=bridgewater.com\"><span class=\"sitestr\">bridgewater.com</span></a>)</span></td></tr><tr><td colspan=\"2\"></td><td class=\"subtext\">\\n        <span class=\"score\" id=\"score_26485756\">189 points</span> by <a href=\"user?id=nkurz\" class=\"hnuser\">nkurz</a> <span class=\"age\"><a href=\"item?id=26485756\">7 hours ago</a></span> <span id=\"unv_26485756\"></span> | <a href=\"hide?id=26485756&amp;goto=news\">hide</a> | <a href=\"item?id=26485756\">180&nbsp;comments</a>              </td></tr>\\n      <tr class=\"spacer\" style=\"height:5px\"></tr>\\n                <tr class=\\'athing\\' id=\\'26474430\\'>\\n      <td align=\"right\" valign=\"top\" class=\"title\"><span class=\"rank\">25.</span></td>      <td valign=\"top\" class=\"votelinks\"><center><a id=\\'up_26474430\\' href=\\'vote?id=26474430&amp;how=up&amp;goto=news\\'><div class=\\'votearrow\\' title=\\'upvote\\'></div></a></center></td><td class=\"title\"><a href=\"https://www.nature.com/articles/d41586-018-05782-x\" class=\"storylink\">Structure of Fruit Fly Brain (2018)</a><span class=\"sitebit comhead\"> (<a href=\"from?site=nature.com\"><span class=\"sitestr\">nature.com</span></a>)</span></td></tr><tr><td colspan=\"2\"></td><td class=\"subtext\">\\n        <span class=\"score\" id=\"score_26474430\">19 points</span> by <a href=\"user?id=icanhackit\" class=\"hnuser\">icanhackit</a> <span class=\"age\"><a href=\"item?id=26474430\">6 hours ago</a></span> <span id=\"unv_26474430\"></span> | <a href=\"hide?id=26474430&amp;goto=news\">hide</a> | <a href=\"item?id=26474430\">3&nbsp;comments</a>              </td></tr>\\n      <tr class=\"spacer\" style=\"height:5px\"></tr>\\n                <tr class=\\'athing\\' id=\\'26463154\\'>\\n      <td align=\"right\" valign=\"top\" class=\"title\"><span class=\"rank\">26.</span></td>      <td valign=\"top\" class=\"votelinks\"><center><a id=\\'up_26463154\\' href=\\'vote?id=26463154&amp;how=up&amp;goto=news\\'><div class=\\'votearrow\\' title=\\'upvote\\'></div></a></center></td><td class=\"title\"><a href=\"http://www.atarimuseum.com/computers/8bits/xe/65xe/65xe.html\" class=\"storylink\">Atari 65XE</a><span class=\"sitebit comhead\"> (<a href=\"from?site=atarimuseum.com\"><span class=\"sitestr\">atarimuseum.com</span></a>)</span></td></tr><tr><td colspan=\"2\"></td><td class=\"subtext\">\\n        <span class=\"score\" id=\"score_26463154\">61 points</span> by <a href=\"user?id=indigodaddy\" class=\"hnuser\">indigodaddy</a> <span class=\"age\"><a href=\"item?id=26463154\">11 hours ago</a></span> <span id=\"unv_26463154\"></span> | <a href=\"hide?id=26463154&amp;goto=news\">hide</a> | <a href=\"item?id=26463154\">36&nbsp;comments</a>              </td></tr>\\n      <tr class=\"spacer\" style=\"height:5px\"></tr>\\n                <tr class=\\'athing\\' id=\\'26462685\\'>\\n      <td align=\"right\" valign=\"top\" class=\"title\"><span class=\"rank\">27.</span></td>      <td valign=\"top\" class=\"votelinks\"><center><a id=\\'up_26462685\\' href=\\'vote?id=26462685&amp;how=up&amp;goto=news\\'><div class=\\'votearrow\\' title=\\'upvote\\'></div></a></center></td><td class=\"title\"><a href=\"https://openml.github.io/blog/openml/data/2020/03/23/Finding-a-standard-dataset-format-for-machine-learning.html\" class=\"storylink\">Finding a standard dataset format for machine learning (2020)</a><span class=\"sitebit comhead\"> (<a href=\"from?site=openml.github.io\"><span class=\"sitestr\">openml.github.io</span></a>)</span></td></tr><tr><td colspan=\"2\"></td><td class=\"subtext\">\\n        <span class=\"score\" id=\"score_26462685\">37 points</span> by <a href=\"user?id=teleforce\" class=\"hnuser\">teleforce</a> <span class=\"age\"><a href=\"item?id=26462685\">8 hours ago</a></span> <span id=\"unv_26462685\"></span> | <a href=\"hide?id=26462685&amp;goto=news\">hide</a> | <a href=\"item?id=26462685\">8&nbsp;comments</a>              </td></tr>\\n      <tr class=\"spacer\" style=\"height:5px\"></tr>\\n                <tr class=\\'athing\\' id=\\'26477855\\'>\\n      <td align=\"right\" valign=\"top\" class=\"title\"><span class=\"rank\">28.</span></td>      <td valign=\"top\" class=\"votelinks\"><center><a id=\\'up_26477855\\' href=\\'vote?id=26477855&amp;how=up&amp;goto=news\\'><div class=\\'votearrow\\' title=\\'upvote\\'></div></a></center></td><td class=\"title\"><a href=\"https://system76.com/laptops/pangolin?its-the-same-url-but-the-content-has-changed-thank-you\" class=\"storylink\">Pangolin \\xe2\\x80\\x93 Mobile AMD laptop with Ryzen CPU and Radeon graphics</a><span class=\"sitebit comhead\"> (<a href=\"from?site=system76.com\"><span class=\"sitestr\">system76.com</span></a>)</span></td></tr><tr><td colspan=\"2\"></td><td class=\"subtext\">\\n        <span class=\"score\" id=\"score_26477855\">474 points</span> by <a href=\"user?id=bananicorn\" class=\"hnuser\">bananicorn</a> <span class=\"age\"><a href=\"item?id=26477855\">18 hours ago</a></span> <span id=\"unv_26477855\"></span> | <a href=\"hide?id=26477855&amp;goto=news\">hide</a> | <a href=\"item?id=26477855\">421&nbsp;comments</a>              </td></tr>\\n      <tr class=\"spacer\" style=\"height:5px\"></tr>\\n                <tr class=\\'athing\\' id=\\'26478975\\'>\\n      <td align=\"right\" valign=\"top\" class=\"title\"><span class=\"rank\">29.</span></td>      <td valign=\"top\" class=\"votelinks\"><center><a id=\\'up_26478975\\' href=\\'vote?id=26478975&amp;how=up&amp;goto=news\\'><div class=\\'votearrow\\' title=\\'upvote\\'></div></a></center></td><td class=\"title\"><a href=\"https://www.universityofcalifornia.edu/press-room/uc-news-uc-secures-landmark-open-access-deal-world-s-largest-scientific-publisher\" class=\"storylink\">UC secures landmark open access deal with world\\xe2\\x80\\x99s largest scientific publisher</a><span class=\"sitebit comhead\"> (<a href=\"from?site=universityofcalifornia.edu\"><span class=\"sitestr\">universityofcalifornia.edu</span></a>)</span></td></tr><tr><td colspan=\"2\"></td><td class=\"subtext\">\\n        <span class=\"score\" id=\"score_26478975\">94 points</span> by <a href=\"user?id=SubiculumCode\" class=\"hnuser\">SubiculumCode</a> <span class=\"age\"><a href=\"item?id=26478975\">16 hours ago</a></span> <span id=\"unv_26478975\"></span> | <a href=\"hide?id=26478975&amp;goto=news\">hide</a> | <a href=\"item?id=26478975\">42&nbsp;comments</a>              </td></tr>\\n      <tr class=\"spacer\" style=\"height:5px\"></tr>\\n                <tr class=\\'athing\\' id=\\'26484938\\'>\\n      <td align=\"right\" valign=\"top\" class=\"title\"><span class=\"rank\">30.</span></td>      <td valign=\"top\" class=\"votelinks\"><center><a id=\\'up_26484938\\' href=\\'vote?id=26484938&amp;how=up&amp;goto=news\\'><div class=\\'votearrow\\' title=\\'upvote\\'></div></a></center></td><td class=\"title\"><a href=\"https://waldo.jaquith.org/blog/2011/12/impractical-cheeseburger/\" class=\"storylink\">On the impracticality of a cheeseburger (2011)</a><span class=\"sitebit comhead\"> (<a href=\"from?site=jaquith.org\"><span class=\"sitestr\">jaquith.org</span></a>)</span></td></tr><tr><td colspan=\"2\"></td><td class=\"subtext\">\\n        <span class=\"score\" id=\"score_26484938\">40 points</span> by <a href=\"user?id=sea6ear\" class=\"hnuser\">sea6ear</a> <span class=\"age\"><a href=\"item?id=26484938\">9 hours ago</a></span> <span id=\"unv_26484938\"></span> | <a href=\"hide?id=26484938&amp;goto=news\">hide</a> | <a href=\"item?id=26484938\">14&nbsp;comments</a>              </td></tr>\\n      <tr class=\"spacer\" style=\"height:5px\"></tr>\\n            <tr class=\"morespace\" style=\"height:10px\"></tr><tr><td colspan=\"2\"></td><td class=\"title\"><a href=\"news?p=2\" class=\"morelink\" rel=\"next\">More</a></td></tr>\\n  </table>\\n</td></tr>\\n<tr><td><img src=\"s.gif\" height=\"10\" width=\"0\"><table width=\"100%\" cellspacing=\"0\" cellpadding=\"1\"><tr><td bgcolor=\"#ff6600\"></td></tr></table><br><center><a href=\"https://www.ycombinator.com/apply/\">\\n        Applications are open for YC Summer 2021\\n      </a></center><br><center><span class=\"yclinks\"><a href=\"newsguidelines.html\">Guidelines</a>\\n        | <a href=\"newsfaq.html\">FAQ</a>\\n        | <a href=\"lists\">Lists</a>\\n        | <a href=\"https://github.com/HackerNews/API\">API</a>\\n        | <a href=\"security.html\">Security</a>\\n        | <a href=\"http://www.ycombinator.com/legal/\">Legal</a>\\n        | <a href=\"http://www.ycombinator.com/apply/\">Apply to YC</a>\\n        | <a href=\"mailto:hn@ycombinator.com\">Contact</a></span><br><br><form method=\"get\" action=\"//hn.algolia.com/\">Search:\\n          <input type=\"text\" name=\"q\" value=\"\" size=\"17\" autocorrect=\"off\" spellcheck=\"false\" autocapitalize=\"off\" autocomplete=\"false\"></form>\\n            </center></td></tr>\\n      </table></center></body><script type=\\'text/javascript\\' src=\\'hn.js?QjZXyB0Ejdsp1rLQatoS\\'></script></html>\\n'"
      ]
     },
     "execution_count": 17,
     "metadata": {},
     "output_type": "execute_result"
    }
   ],
   "source": [
    "hacker_news_homepage_response.content"
   ]
  },
  {
   "cell_type": "markdown",
   "id": "single-canadian",
   "metadata": {},
   "source": [
    "This is the raw HTML that the webserver will display.\n",
    "\n",
    "Let's try a request for a non-existent URL:"
   ]
  },
  {
   "cell_type": "code",
   "execution_count": 18,
   "id": "noticed-hepatitis",
   "metadata": {},
   "outputs": [],
   "source": [
    "doomed_response = requests.get('https://news.ycombinator.com/foobar.html')"
   ]
  },
  {
   "cell_type": "code",
   "execution_count": 21,
   "id": "aggressive-salon",
   "metadata": {},
   "outputs": [
    {
     "data": {
      "text/plain": [
       "404"
      ]
     },
     "execution_count": 21,
     "metadata": {},
     "output_type": "execute_result"
    }
   ],
   "source": [
    "doomed_response.status_code"
   ]
  },
  {
   "cell_type": "code",
   "execution_count": 22,
   "id": "adjustable-salad",
   "metadata": {},
   "outputs": [
    {
     "data": {
      "text/plain": [
       "'Not Found'"
      ]
     },
     "execution_count": 22,
     "metadata": {},
     "output_type": "execute_result"
    }
   ],
   "source": [
    "doomed_response.reason"
   ]
  },
  {
   "cell_type": "code",
   "execution_count": 23,
   "id": "dietary-bahrain",
   "metadata": {},
   "outputs": [
    {
     "name": "stdout",
     "output_type": "stream",
     "text": [
      "doomed response is not truthy\n"
     ]
    }
   ],
   "source": [
    "if doomed_response:\n",
    "    print('doomed_response is truthy')\n",
    "else:\n",
    "    print('doomed response is not truthy')"
   ]
  },
  {
   "cell_type": "markdown",
   "id": "bored-option",
   "metadata": {},
   "source": [
    "An idiomatic way of raising errors:"
   ]
  },
  {
   "cell_type": "code",
   "execution_count": 24,
   "id": "planned-enclosure",
   "metadata": {},
   "outputs": [],
   "source": [
    "def do_something(url):\n",
    "    response = requests.get(url)\n",
    "    \n",
    "    if response:\n",
    "        # use response.content or response.json()\n",
    "        print('That worked!')\n",
    "    else:\n",
    "        response.raise_for_status()"
   ]
  },
  {
   "cell_type": "code",
   "execution_count": 44,
   "id": "modified-bangkok",
   "metadata": {},
   "outputs": [
    {
     "ename": "HTTPError",
     "evalue": "404 Client Error: Not Found for url: https://news.ycombinator.com/foobar.html",
     "output_type": "error",
     "traceback": [
      "\u001b[0;31m---------------------------------------------------------------------------\u001b[0m",
      "\u001b[0;31mHTTPError\u001b[0m                                 Traceback (most recent call last)",
      "\u001b[0;32m<ipython-input-44-cb18628b3dab>\u001b[0m in \u001b[0;36m<module>\u001b[0;34m\u001b[0m\n\u001b[0;32m----> 1\u001b[0;31m \u001b[0mdo_something\u001b[0m\u001b[0;34m(\u001b[0m\u001b[0;34m'https://news.ycombinator.com/foobar.html'\u001b[0m\u001b[0;34m)\u001b[0m\u001b[0;34m\u001b[0m\u001b[0;34m\u001b[0m\u001b[0m\n\u001b[0m",
      "\u001b[0;32m<ipython-input-24-c55bb52a34c8>\u001b[0m in \u001b[0;36mdo_something\u001b[0;34m(url)\u001b[0m\n\u001b[1;32m      6\u001b[0m         \u001b[0mprint\u001b[0m\u001b[0;34m(\u001b[0m\u001b[0;34m'That worked!'\u001b[0m\u001b[0;34m)\u001b[0m\u001b[0;34m\u001b[0m\u001b[0;34m\u001b[0m\u001b[0m\n\u001b[1;32m      7\u001b[0m     \u001b[0;32melse\u001b[0m\u001b[0;34m:\u001b[0m\u001b[0;34m\u001b[0m\u001b[0;34m\u001b[0m\u001b[0m\n\u001b[0;32m----> 8\u001b[0;31m         \u001b[0mresponse\u001b[0m\u001b[0;34m.\u001b[0m\u001b[0mraise_for_status\u001b[0m\u001b[0;34m(\u001b[0m\u001b[0;34m)\u001b[0m\u001b[0;34m\u001b[0m\u001b[0;34m\u001b[0m\u001b[0m\n\u001b[0m",
      "\u001b[0;32m~/Development/ext/python101/.venv/lib/python3.7/site-packages/requests/models.py\u001b[0m in \u001b[0;36mraise_for_status\u001b[0;34m(self)\u001b[0m\n\u001b[1;32m    941\u001b[0m \u001b[0;34m\u001b[0m\u001b[0m\n\u001b[1;32m    942\u001b[0m         \u001b[0;32mif\u001b[0m \u001b[0mhttp_error_msg\u001b[0m\u001b[0;34m:\u001b[0m\u001b[0;34m\u001b[0m\u001b[0;34m\u001b[0m\u001b[0m\n\u001b[0;32m--> 943\u001b[0;31m             \u001b[0;32mraise\u001b[0m \u001b[0mHTTPError\u001b[0m\u001b[0;34m(\u001b[0m\u001b[0mhttp_error_msg\u001b[0m\u001b[0;34m,\u001b[0m \u001b[0mresponse\u001b[0m\u001b[0;34m=\u001b[0m\u001b[0mself\u001b[0m\u001b[0;34m)\u001b[0m\u001b[0;34m\u001b[0m\u001b[0;34m\u001b[0m\u001b[0m\n\u001b[0m\u001b[1;32m    944\u001b[0m \u001b[0;34m\u001b[0m\u001b[0m\n\u001b[1;32m    945\u001b[0m     \u001b[0;32mdef\u001b[0m \u001b[0mclose\u001b[0m\u001b[0;34m(\u001b[0m\u001b[0mself\u001b[0m\u001b[0;34m)\u001b[0m\u001b[0;34m:\u001b[0m\u001b[0;34m\u001b[0m\u001b[0;34m\u001b[0m\u001b[0m\n",
      "\u001b[0;31mHTTPError\u001b[0m: 404 Client Error: Not Found for url: https://news.ycombinator.com/foobar.html"
     ]
    }
   ],
   "source": [
    "do_something('https://news.ycombinator.com/foobar.html')"
   ]
  },
  {
   "cell_type": "code",
   "execution_count": 27,
   "id": "unexpected-medline",
   "metadata": {},
   "outputs": [
    {
     "name": "stdout",
     "output_type": "stream",
     "text": [
      "That worked!\n"
     ]
    }
   ],
   "source": [
    "do_something('https://news.ycombinator.com/')"
   ]
  },
  {
   "cell_type": "markdown",
   "id": "incorporate-halloween",
   "metadata": {},
   "source": [
    "### Working with JSON responses\n",
    "\n",
    "Here we'll be using a public API for medicine prices in South Africa: https://medicineprices.org.za/"
   ]
  },
  {
   "cell_type": "code",
   "execution_count": 28,
   "id": "aggressive-liberia",
   "metadata": {},
   "outputs": [],
   "source": [
    "myprodol_search_result = requests.get('https://medicineprices.org.za/api/v2/search-lite?q=myprodol')"
   ]
  },
  {
   "cell_type": "code",
   "execution_count": 31,
   "id": "boxed-kinase",
   "metadata": {},
   "outputs": [
    {
     "name": "stdout",
     "output_type": "stream",
     "text": [
      "200\n"
     ]
    },
    {
     "data": {
      "text/plain": [
       "{'Server': 'nginx', 'Date': 'Wed, 17 Mar 2021 12:01:07 GMT', 'Content-Type': 'application/json', 'Content-Length': '809', 'Connection': 'keep-alive', 'Expires': 'Wed, 17 Mar 2021 12:11:07 GMT', 'Cache-Control': 'max-age=600', 'Access-Control-Allow-Origin': '*'}"
      ]
     },
     "execution_count": 31,
     "metadata": {},
     "output_type": "execute_result"
    }
   ],
   "source": [
    "print(myprodol_search_result.status_code)\n",
    "myprodol_search_result.headers"
   ]
  },
  {
   "cell_type": "markdown",
   "id": "smart-peace",
   "metadata": {},
   "source": [
    "So far, so good. \n",
    "\n",
    "Note that the `Content-Type` header is telling us that the data returned is `application/json` (this value is a MIME type, meaning there are well-defined constants)\n",
    "\n",
    "If we take a look at the raw content it won't be immediately useful to us:"
   ]
  },
  {
   "cell_type": "code",
   "execution_count": 32,
   "id": "bound-madonna",
   "metadata": {},
   "outputs": [
    {
     "data": {
      "text/plain": [
       "b'[{\"id\": 81131, \"nappi_code\": \"745561021\", \"name\": \"Myprodol\", \"dosage_form\": \"capsule\", \"sep\": \"R 68.50\", \"number_of_generics\": 7}, {\"id\": 81279, \"nappi_code\": \"793744008\", \"name\": \"Myprodol\", \"dosage_form\": \"suspension\", \"sep\": \"R 153.38\", \"number_of_generics\": 2}, {\"id\": 81129, \"nappi_code\": \"745561004\", \"name\": \"Myprodol\", \"dosage_form\": \"capsule\", \"sep\": \"R 169.13\", \"number_of_generics\": 7}, {\"id\": 80875, \"nappi_code\": \"704896001\", \"name\": \"Myprodol  Tablets\", \"dosage_form\": \"tablet\", \"sep\": \"R 169.28\", \"number_of_generics\": 7}, {\"id\": 80876, \"nappi_code\": \"704896002\", \"name\": \"Myprodol Tablets\", \"dosage_form\": \"tablet\", \"sep\": \"R 469.55\", \"number_of_generics\": 7}, {\"id\": 81130, \"nappi_code\": \"745561020\", \"name\": \"Myprodol\", \"dosage_form\": \"capsule\", \"sep\": \"R 485.04\", \"number_of_generics\": 7}]'"
      ]
     },
     "execution_count": 32,
     "metadata": {},
     "output_type": "execute_result"
    }
   ],
   "source": [
    "myprodol_search_result.content"
   ]
  },
  {
   "cell_type": "markdown",
   "id": "valid-cycling",
   "metadata": {},
   "source": [
    "This is a binary representation of the JSON data as a string. To work with we need to parse the string.\n",
    "\n",
    "Mercifully this is such a common task that `requests` will do this for us:"
   ]
  },
  {
   "cell_type": "code",
   "execution_count": 34,
   "id": "polar-keeping",
   "metadata": {
    "scrolled": true
   },
   "outputs": [
    {
     "data": {
      "text/plain": [
       "[{'id': 81131,\n",
       "  'nappi_code': '745561021',\n",
       "  'name': 'Myprodol',\n",
       "  'dosage_form': 'capsule',\n",
       "  'sep': 'R 68.50',\n",
       "  'number_of_generics': 7},\n",
       " {'id': 81279,\n",
       "  'nappi_code': '793744008',\n",
       "  'name': 'Myprodol',\n",
       "  'dosage_form': 'suspension',\n",
       "  'sep': 'R 153.38',\n",
       "  'number_of_generics': 2},\n",
       " {'id': 81129,\n",
       "  'nappi_code': '745561004',\n",
       "  'name': 'Myprodol',\n",
       "  'dosage_form': 'capsule',\n",
       "  'sep': 'R 169.13',\n",
       "  'number_of_generics': 7},\n",
       " {'id': 80875,\n",
       "  'nappi_code': '704896001',\n",
       "  'name': 'Myprodol  Tablets',\n",
       "  'dosage_form': 'tablet',\n",
       "  'sep': 'R 169.28',\n",
       "  'number_of_generics': 7},\n",
       " {'id': 80876,\n",
       "  'nappi_code': '704896002',\n",
       "  'name': 'Myprodol Tablets',\n",
       "  'dosage_form': 'tablet',\n",
       "  'sep': 'R 469.55',\n",
       "  'number_of_generics': 7},\n",
       " {'id': 81130,\n",
       "  'nappi_code': '745561020',\n",
       "  'name': 'Myprodol',\n",
       "  'dosage_form': 'capsule',\n",
       "  'sep': 'R 485.04',\n",
       "  'number_of_generics': 7}]"
      ]
     },
     "execution_count": 34,
     "metadata": {},
     "output_type": "execute_result"
    }
   ],
   "source": [
    "myprodol_json = myprodol_search_result.json()\n",
    "myprodol_json"
   ]
  },
  {
   "cell_type": "markdown",
   "id": "industrial-folder",
   "metadata": {},
   "source": [
    "Now we have a dict of values and we can apply our regular Python tricks."
   ]
  },
  {
   "cell_type": "code",
   "execution_count": 37,
   "id": "worth-curve",
   "metadata": {},
   "outputs": [],
   "source": [
    "myprodol_tabs = [medicine for medicine in myprodol_json if medicine['dosage_form'] == 'tablet']"
   ]
  },
  {
   "cell_type": "code",
   "execution_count": 38,
   "id": "concrete-matrix",
   "metadata": {},
   "outputs": [
    {
     "data": {
      "text/plain": [
       "[{'id': 80875,\n",
       "  'nappi_code': '704896001',\n",
       "  'name': 'Myprodol  Tablets',\n",
       "  'dosage_form': 'tablet',\n",
       "  'sep': 'R 169.28',\n",
       "  'number_of_generics': 7},\n",
       " {'id': 80876,\n",
       "  'nappi_code': '704896002',\n",
       "  'name': 'Myprodol Tablets',\n",
       "  'dosage_form': 'tablet',\n",
       "  'sep': 'R 469.55',\n",
       "  'number_of_generics': 7}]"
      ]
     },
     "execution_count": 38,
     "metadata": {},
     "output_type": "execute_result"
    }
   ],
   "source": [
    "myprodol_tabs"
   ]
  },
  {
   "cell_type": "markdown",
   "id": "federal-jacob",
   "metadata": {},
   "source": [
    "### Query Parameters\n",
    "\n",
    "You may have noticed that our previous example had our search string embedded in our URL in the [Query String portion](https://en.wikipedia.org/wiki/Query_string). \n",
    "\n",
    "This appeared as `?q=myprodol`\n",
    "\n",
    "`?` signals the start of the query string. It is then followed by `name=value`\n",
    "\n",
    "We could have multiple parameters (this only has any effect if the server looks for those parameters)\n",
    "\n",
    "This would look like: `?q=myprodol&max_results=5`\n",
    "\n",
    "Let's see how we can include parameters in requests *without doing any String manipulation*"
   ]
  },
  {
   "cell_type": "code",
   "execution_count": 45,
   "id": "dirty-while",
   "metadata": {},
   "outputs": [],
   "source": [
    "improved_myprodol_results = requests.get('https://medicineprices.org.za/api/v2/search-lite', \n",
    "                                         params={'q': 'myprodol tablets'})"
   ]
  },
  {
   "cell_type": "code",
   "execution_count": 41,
   "id": "adopted-pressing",
   "metadata": {},
   "outputs": [
    {
     "data": {
      "text/plain": [
       "[{'id': 81131,\n",
       "  'nappi_code': '745561021',\n",
       "  'name': 'Myprodol',\n",
       "  'dosage_form': 'capsule',\n",
       "  'sep': 'R 68.50',\n",
       "  'number_of_generics': 7},\n",
       " {'id': 81279,\n",
       "  'nappi_code': '793744008',\n",
       "  'name': 'Myprodol',\n",
       "  'dosage_form': 'suspension',\n",
       "  'sep': 'R 153.38',\n",
       "  'number_of_generics': 2},\n",
       " {'id': 81129,\n",
       "  'nappi_code': '745561004',\n",
       "  'name': 'Myprodol',\n",
       "  'dosage_form': 'capsule',\n",
       "  'sep': 'R 169.13',\n",
       "  'number_of_generics': 7},\n",
       " {'id': 80875,\n",
       "  'nappi_code': '704896001',\n",
       "  'name': 'Myprodol  Tablets',\n",
       "  'dosage_form': 'tablet',\n",
       "  'sep': 'R 169.28',\n",
       "  'number_of_generics': 7},\n",
       " {'id': 80876,\n",
       "  'nappi_code': '704896002',\n",
       "  'name': 'Myprodol Tablets',\n",
       "  'dosage_form': 'tablet',\n",
       "  'sep': 'R 469.55',\n",
       "  'number_of_generics': 7},\n",
       " {'id': 81130,\n",
       "  'nappi_code': '745561020',\n",
       "  'name': 'Myprodol',\n",
       "  'dosage_form': 'capsule',\n",
       "  'sep': 'R 485.04',\n",
       "  'number_of_generics': 7}]"
      ]
     },
     "execution_count": 41,
     "metadata": {},
     "output_type": "execute_result"
    }
   ],
   "source": [
    "improved_myprodol_results.json()"
   ]
  },
  {
   "cell_type": "markdown",
   "id": "colonial-delivery",
   "metadata": {},
   "source": [
    "Let us examine some real life API docs and how we might use them with our new knowledge:\n",
    "\n",
    "https://developer.apple.com/documentation/appstoreconnectapi/download_sales_and_trends_reports"
   ]
  }
 ],
 "metadata": {
  "kernelspec": {
   "display_name": "Python 3",
   "language": "python",
   "name": "python3"
  },
  "language_info": {
   "codemirror_mode": {
    "name": "ipython",
    "version": 3
   },
   "file_extension": ".py",
   "mimetype": "text/x-python",
   "name": "python",
   "nbconvert_exporter": "python",
   "pygments_lexer": "ipython3",
   "version": "3.7.9"
  }
 },
 "nbformat": 4,
 "nbformat_minor": 5
}
