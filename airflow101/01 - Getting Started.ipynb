{
 "cells": [
  {
   "cell_type": "markdown",
   "id": "considerable-humidity",
   "metadata": {},
   "source": [
    "In this notebook we will \n",
    "\n",
    "* install Airflow\n",
    "* Run the individual Airflow components\n",
    "* Write our first DAG"
   ]
  },
  {
   "cell_type": "markdown",
   "id": "circular-hartford",
   "metadata": {},
   "source": [
    "## Installing Airflow\n",
    "\n",
    "### Step One: Getting Ready\n",
    "Open a terminal and navigate to the directory for this notebook\n",
    "\n",
    "```{shell}\n",
    "cd {your path}/python101/airflow101\n",
    "```\n",
    "\n",
    "Next, create and enter a new virtual environment:\n",
    "\n",
    "```\n",
    "python3 -m venv .venv-airflow\n",
    "source .venv-airflow/bin/activate\n",
    "```\n",
    "\n",
    "### Step Two: Install Airflow\n",
    "\n",
    "```\n",
    "pip install apache-airflow==1.10.15\n",
    "pip install SQLAlchemy==1.3.23 \n",
    "pip install Flask-SQLAlchemy==2.4.4\n",
    "```\n",
    "\n",
    "### Step Three: Configure Airflow\n",
    "\n",
    "Set Airflow environment variables for this shell session by sourcing a provided file:\n",
    "```\n",
    "source localAirflowEnv.sh\n",
    "```\n",
    "\n",
    "This tells Airflow where to look for DAGs and store data\n",
    "\n",
    "```\n",
    "airflow initdb\n",
    "```\n",
    "\n",
    "This creates and initialises a local Airflow metadata database using SQLite."
   ]
  },
  {
   "cell_type": "markdown",
   "id": "wicked-addiction",
   "metadata": {},
   "source": [
    "## Running Airflow Components\n",
    "\n",
    "### Webserver\n",
    "\n",
    "In your current terminal run:\n",
    "\n",
    "```\n",
    "airflow webserver\n",
    "```\n",
    "\n",
    "This should start a webserver listening on http://localhost:8080/\n",
    "\n",
    "### Scheduler\n",
    "\n",
    "Open another terminal and get it ready to run Airflow:\n",
    "\n",
    "1. cd to your airflow101 directory\n",
    "2. Enter your Airflow virtual environment\n",
    "3. Source your Airflow environment variables\n",
    "\n",
    "Then you can run\n",
    "\n",
    "```\n",
    "airflow scheduler\n",
    "```"
   ]
  },
  {
   "cell_type": "markdown",
   "id": "modified-signature",
   "metadata": {},
   "source": [
    "## Hello World DAG\n",
    "\n",
    "We're now going to create our first DAG. It will have two tasks: say hello and then say goodbye.\n",
    "\n",
    "### Step One: Create the Python DAG file\n",
    "\n",
    "Create a file called `hello_world.py` in the directory `python101/airflow101/dags` and open it in your preferred editor.\n",
    "\n",
    "Add the following content. I recommend typing instead of copy-pasting. It forces you to pay more attention to the details.\n",
    "\n",
    "```python\n",
    "from airflow.models import DAG\n",
    "from airflow.operators.python_operator import PythonOperator\n",
    "from datetime import datetime\n",
    "\n",
    "\n",
    "def say_something(phrase, dt, **kwargs):\n",
    "    print(f'{phrase} {dt}')\n",
    "\n",
    "\n",
    "dag = DAG('hello_dag',\n",
    "          schedule_interval='* * * * *',\n",
    "          start_date=datetime(2021, 5, 17))\n",
    "\n",
    "\n",
    "hello_task = PythonOperator(dag=dag,\n",
    "                            task_id='say_hello',\n",
    "                            python_callable=say_something,\n",
    "                            op_kwargs={\n",
    "                                'phrase': 'hello world!'\n",
    "                            })\n",
    "\n",
    "goodbye_task = PythonOperator(dag=dag,\n",
    "                              task_id='say_goodbye',\n",
    "                              python_callable=say_something,\n",
    "                              op_kwargs={\n",
    "                                  'phrase': 'see you later!'\n",
    "                              })\n",
    "\n",
    "hello_task >> goodbye_task\n",
    "```\n",
    "\n",
    "### Step Two: Start your DAG and explore in the Webserver\n",
    "\n",
    "By default your DAG starts in a non-running state.\n",
    "\n",
    "Click the toggle to get it running and give it time to schedule and run a few times.\n",
    "\n",
    "Explore your DAG in the Webserver.\n",
    "\n",
    "Find the Graph View (a view of the dependencies between your tasks)\n",
    "\n",
    "Find the Tree View (a view of the status of previous runs of the DAG and tasks)\n",
    "\n",
    "View the logs for individual tasks.\n",
    "\n",
    "See if you can find log output in the Scheduler terminal window.\n",
    "\n",
    "### Step Three: Let's examine the code in closer detail"
   ]
  },
  {
   "cell_type": "code",
   "execution_count": 12,
   "id": "binary-branch",
   "metadata": {},
   "outputs": [],
   "source": [
    "def keyword_args(salutation='hello', item='world', **kwargs):\n",
    "    print(f'{salutation} {item}')\n"
   ]
  },
  {
   "cell_type": "code",
   "execution_count": 13,
   "id": "consistent-commander",
   "metadata": {},
   "outputs": [
    {
     "name": "stdout",
     "output_type": "stream",
     "text": [
      "goodbye world\n"
     ]
    }
   ],
   "source": [
    "keyword_args(salutation='goodbye', item='world')"
   ]
  },
  {
   "cell_type": "code",
   "execution_count": null,
   "id": "speaking-spider",
   "metadata": {},
   "outputs": [],
   "source": []
  }
 ],
 "metadata": {
  "kernelspec": {
   "display_name": "Python 3",
   "language": "python",
   "name": "python3"
  },
  "language_info": {
   "codemirror_mode": {
    "name": "ipython",
    "version": 3
   },
   "file_extension": ".py",
   "mimetype": "text/x-python",
   "name": "python",
   "nbconvert_exporter": "python",
   "pygments_lexer": "ipython3",
   "version": "3.7.9"
  }
 },
 "nbformat": 4,
 "nbformat_minor": 5
}
